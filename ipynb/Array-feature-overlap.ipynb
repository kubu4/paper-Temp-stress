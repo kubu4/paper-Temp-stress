{
 "metadata": {
  "name": "",
  "signature": "sha256:8a5a1cb117b5774b02396aa3b16a4e7c7bd95c04fa1da53a228cca515fdb683c"
 },
 "nbformat": 3,
 "nbformat_minor": 0,
 "worksheets": [
  {
   "cells": [
    {
     "cell_type": "heading",
     "level": 1,
     "metadata": {},
     "source": [
      "Where do '3plus merged` overlap"
     ]
    },
    {
     "cell_type": "code",
     "collapsed": false,
     "input": [
      "!head -1 ./analyses/*"
     ],
     "language": "python",
     "metadata": {},
     "outputs": [
      {
       "output_type": "stream",
       "stream": "stdout",
       "text": [
        "==> ./analyses/2M_3plusmerge_Hyper.gff <==\r\n",
        "scaffold1583\t976276\t976596\r\n",
        "\r\n",
        "==> ./analyses/2M_3plusmerge_Hypo.gff <==\r\n",
        "scaffold1016\t249436\t249737\r\n",
        "\r\n",
        "==> ./analyses/4M_3plusmerge_Hyper.gff <==\r\n",
        "scaffold1241\t28111\t28419\r\n",
        "\r\n",
        "==> ./analyses/4M_3plusmerge_Hypo.gff <==\r\n",
        "scaffold100\t804406\t804960\r\n",
        "\r\n",
        "==> ./analyses/6M_3plusmerge_Hyper.gff <==\r\n",
        "scaffold1737\t485256\t485565\r\n",
        "\r\n",
        "==> ./analyses/6M_3plusmerge_Hypo.gff <==\r\n",
        "scaffold101\t610174\t610236\r\n"
       ]
      }
     ],
     "prompt_number": 2
    },
    {
     "cell_type": "heading",
     "level": 1,
     "metadata": {},
     "source": [
      "List of Canonical Features"
     ]
    },
    {
     "cell_type": "code",
     "collapsed": false,
     "input": [
      "for i in (\"exon\",\"intron\",\"TEx\",\"gene\",\"1k5p_gene_promoter\",\"CG\"):\n",
      "    !curl http://eagle.fish.washington.edu/trilobite/Crassostrea_gigas_v9_tracks/Cgigas_v9_{i}.gff > ./analyses/Cgigas_v9_{i}.gff"
     ],
     "language": "python",
     "metadata": {},
     "outputs": [
      {
       "output_type": "stream",
       "stream": "stdout",
       "text": [
        "  % Total    % Received % Xferd  Average Speed   Time    Time     Time  Current\r\n",
        "                                 Dload  Upload   Total   Spent    Left  Speed\r\n",
        "\r",
        "  0     0    0     0    0     0      0      0 --:--:-- --:--:-- --:--:--     0"
       ]
      },
      {
       "output_type": "stream",
       "stream": "stdout",
       "text": [
        "\r",
        "  1 11.7M    1  144k    0     0   870k      0  0:00:13 --:--:--  0:00:13  867k"
       ]
      },
      {
       "output_type": "stream",
       "stream": "stdout",
       "text": [
        "\r",
        "100 11.7M  100 11.7M    0     0  33.7M      0 --:--:-- --:--:-- --:--:-- 33.6M\r\n"
       ]
      },
      {
       "output_type": "stream",
       "stream": "stdout",
       "text": [
        "  % Total    % Received % Xferd  Average Speed   Time    Time     Time  Current\r\n",
        "                                 Dload  Upload   Total   Spent    Left  Speed\r\n",
        "\r",
        "  0     0    0     0    0     0      0      0 --:--:-- --:--:-- --:--:--     0"
       ]
      },
      {
       "output_type": "stream",
       "stream": "stdout",
       "text": [
        "\r",
        "100 12.0M  100 12.0M    0     0  57.6M      0 --:--:-- --:--:-- --:--:-- 57.7M\r\n"
       ]
      },
      {
       "output_type": "stream",
       "stream": "stdout",
       "text": [
        "  % Total    % Received % Xferd  Average Speed   Time    Time     Time  Current\r\n",
        "                                 Dload  Upload   Total   Spent    Left  Speed\r\n",
        "\r",
        "  0     0    0     0    0     0      0      0 --:--:-- --:--:-- --:--:--     0"
       ]
      },
      {
       "output_type": "stream",
       "stream": "stdout",
       "text": [
        "\r",
        "100 3129k  100 3129k    0     0  34.9M      0 --:--:-- --:--:-- --:--:-- 35.1M\r\n"
       ]
      },
      {
       "output_type": "stream",
       "stream": "stdout",
       "text": [
        "  % Total    % Received % Xferd  Average Speed   Time    Time     Time  Current\r\n",
        "                                 Dload  Upload   Total   Spent    Left  Speed\r\n",
        "\r",
        "  0     0    0     0    0     0      0      0 --:--:-- --:--:-- --:--:--     0"
       ]
      },
      {
       "output_type": "stream",
       "stream": "stdout",
       "text": [
        "\r",
        "100 1777k  100 1777k    0     0  30.0M      0 --:--:-- --:--:-- --:--:-- 30.4M\r\n"
       ]
      },
      {
       "output_type": "stream",
       "stream": "stdout",
       "text": [
        "  % Total    % Received % Xferd  Average Speed   Time    Time     Time  Current\r\n",
        "                                 Dload  Upload   Total   Spent    Left  Speed\r\n",
        "\r",
        "  0     0    0     0    0     0      0      0 --:--:-- --:--:-- --:--:--     0"
       ]
      },
      {
       "output_type": "stream",
       "stream": "stdout",
       "text": [
        "\r",
        "100 1848k  100 1848k    0     0  31.1M      0 --:--:-- --:--:-- --:--:-- 31.6M\r\n"
       ]
      },
      {
       "output_type": "stream",
       "stream": "stdout",
       "text": [
        "  % Total    % Received % Xferd  Average Speed   Time    Time     Time  Current\r\n",
        "                                 Dload  Upload   Total   Spent    Left  Speed\r\n",
        "\r",
        "  0     0    0     0    0     0      0      0 --:--:-- --:--:-- --:--:--     0"
       ]
      },
      {
       "output_type": "stream",
       "stream": "stdout",
       "text": [
        "\r",
        "  7  932M    7 68.0M    0     0  87.6M      0  0:00:10 --:--:--  0:00:10 87.6M"
       ]
      },
      {
       "output_type": "stream",
       "stream": "stdout",
       "text": [
        "\r",
        " 17  932M   17  163M    0     0  91.8M      0  0:00:10  0:00:01  0:00:09 91.8M"
       ]
      },
      {
       "output_type": "stream",
       "stream": "stdout",
       "text": [
        "\r",
        " 28  932M   28  270M    0     0  97.3M      0  0:00:09  0:00:02  0:00:07 97.3M"
       ]
      },
      {
       "output_type": "stream",
       "stream": "stdout",
       "text": [
        "\r",
        " 39  932M   39  370M    0     0  98.0M      0  0:00:09  0:00:03  0:00:06 98.0M"
       ]
      },
      {
       "output_type": "stream",
       "stream": "stdout",
       "text": [
        "\r",
        " 48  932M   48  452M    0     0  94.7M      0  0:00:09  0:00:04  0:00:05 94.7M"
       ]
      },
      {
       "output_type": "stream",
       "stream": "stdout",
       "text": [
        "\r",
        " 54  932M   54  508M    0     0  87.9M      0  0:00:10  0:00:05  0:00:05 87.9M"
       ]
      },
      {
       "output_type": "stream",
       "stream": "stdout",
       "text": [
        "\r",
        " 61  932M   61  570M    0     0  84.2M      0  0:00:11  0:00:06  0:00:05 81.5M"
       ]
      },
      {
       "output_type": "stream",
       "stream": "stdout",
       "text": [
        "\r",
        " 72  932M   72  679M    0     0  87.3M      0  0:00:10  0:00:07  0:00:03 81.7M"
       ]
      },
      {
       "output_type": "stream",
       "stream": "stdout",
       "text": [
        "\r",
        " 83  932M   83  777M    0     0  88.5M      0  0:00:10  0:00:08  0:00:02 81.4M"
       ]
      },
      {
       "output_type": "stream",
       "stream": "stdout",
       "text": [
        "\r",
        " 92  932M   92  857M    0     0  87.7M      0  0:00:10  0:00:09  0:00:01 81.0M"
       ]
      },
      {
       "output_type": "stream",
       "stream": "stdout",
       "text": [
        "\r",
        "100  932M  100  932M    0     0  88.3M      0  0:00:10  0:00:10 --:--:-- 88.9M\r\n"
       ]
      }
     ],
     "prompt_number": 8
    },
    {
     "cell_type": "code",
     "collapsed": false,
     "input": [
      "!head -3 ./analyses/Cgiga*"
     ],
     "language": "python",
     "metadata": {},
     "outputs": [
      {
       "output_type": "stream",
       "stream": "stdout",
       "text": [
        "==> ./analyses/Cgigas_v9_1k5p_gene_promoter.gff <==\r\n",
        "C16582\tflankbed\tpromoter\t386\t395\t.\t-\t.\tID=CGI_10000001;\r",
        "\r\n",
        "C17212\tflankbed\tpromoter\t1\t30\t.\t+\t.\tID=CGI_10000002;\r",
        "\r\n",
        "C17316\tflankbed\tpromoter\t1\t29\t.\t+\t.\tID=CGI_10000003;\r",
        "\r\n",
        "\r\n",
        "==> ./analyses/Cgigas_v9_CG.gff <==\r\n",
        "##gff-version 3\r\n",
        "##sequence-region scaffold360 1 280\r\n",
        "#!Date 2013-04-23\r\n",
        "\r\n",
        "==> ./analyses/Cgigas_v9_TEx.gff <==\r\n",
        "scaffold1479\tWUBlastX\tLTR_Gypsy\t2608\t4209\t104\t+\t.\t.\r\n",
        "C33730\tWUBlastX\tLTR_Pao\t1960\t2589\t652\t-\t.\t.\r\n",
        "C33730\tWUBlastX\tLTR_Pao\t3358\t5868\t1471\t-\t.\t.\r\n",
        "\r\n",
        "==> ./analyses/Cgigas_v9_exon.gff <==\r\n",
        "C16582\tGLEAN\tCDS\t35\t385\t.\t-\t0\tParent=CGI_10000001;\r\n",
        "C17212\tGLEAN\tCDS\t31\t363\t.\t+\t0\tParent=CGI_10000002;\r\n",
        "C17316\tGLEAN\tCDS\t30\t257\t.\t+\t0\tParent=CGI_10000003;\r\n",
        "\r\n",
        "==> ./analyses/Cgigas_v9_gene.gff <==\r\n",
        "C16582\tGLEAN\tmRNA\t35\t385\t0.555898\t-\t.\tID=CGI_10000001;\r\n",
        "C17212\tGLEAN\tmRNA\t31\t363\t0.999572\t+\t.\tID=CGI_10000002;\r\n",
        "C17316\tGLEAN\tmRNA\t30\t257\t0.555898\t+\t.\tID=CGI_10000003;\r\n",
        "\r\n",
        "==> ./analyses/Cgigas_v9_intron.gff <==\r\n",
        "C17476\tsubtractBed\tintrn\t75\t103\t.\t-\t.\tParent=CGI_10000004;\r",
        "\r\n",
        "C19392\tsubtractBed\tintrn\t184\t451\t.\t+\t.\tParent=CGI_10000015;\r",
        "\r\n",
        "C20262\tsubtractBed\tintrn\t539\t641\t.\t-\t.\tParent=CGI_10000025;\r",
        "\r\n"
       ]
      }
     ],
     "prompt_number": 11
    },
    {
     "cell_type": "code",
     "collapsed": false,
     "input": [
      "for i in (\"exon\",\"intron\",\"TEx\",\"1k5p_gene_promoter\"):\n",
      "    !intersectbed \\\n",
      "    -u \\\n",
      "    -a ./analyses/2M_3plusmerge_Hyper.gff \\\n",
      "    -b ./analyses/Cgigas_v9_{i}.gff \\\n",
      "    > ./analyses/{i}_intersect_2M_3plusmerge_Hyper.txt\n",
      "    !wc -l ./analyses/{i}_intersect_2M_3plusmerge_Hyper.txt"
     ],
     "language": "python",
     "metadata": {},
     "outputs": [
      {
       "output_type": "stream",
       "stream": "stdout",
       "text": [
        "       1 ./analyses/exon_intersect_2M_3plusmerge_Hyper.txt\r\n"
       ]
      },
      {
       "output_type": "stream",
       "stream": "stdout",
       "text": [
        "       4 ./analyses/intron_intersect_2M_3plusmerge_Hyper.txt\r\n"
       ]
      },
      {
       "output_type": "stream",
       "stream": "stdout",
       "text": [
        "       0 ./analyses/TEx_intersect_2M_3plusmerge_Hyper.txt\r\n"
       ]
      },
      {
       "output_type": "stream",
       "stream": "stdout",
       "text": [
        "       0 ./analyses/1k5p_gene_promoter_intersect_2M_3plusmerge_Hyper.txt\r\n"
       ]
      }
     ],
     "prompt_number": 12
    },
    {
     "cell_type": "code",
     "collapsed": false,
     "input": [
      "for i in (\"exon\",\"intron\",\"TEx\",\"1k5p_gene_promoter\"):\n",
      "    !intersectbed \\\n",
      "    -u \\\n",
      "    -a ./analyses/2M_3plusmerge_Hypo.gff \\\n",
      "    -b ./analyses/Cgigas_v9_{i}.gff \\\n",
      "    > ./analyses/{i}_intersect_2M_3plusmerge_Hypo.txt\n",
      "    !wc -l ./analyses/{i}_intersect_2M_3plusmerge_Hypo.txt"
     ],
     "language": "python",
     "metadata": {},
     "outputs": [
      {
       "output_type": "stream",
       "stream": "stdout",
       "text": [
        "      36 ./analyses/exon_intersect_2M_3plusmerge_Hypo.txt\r\n"
       ]
      },
      {
       "output_type": "stream",
       "stream": "stdout",
       "text": [
        "      89 ./analyses/intron_intersect_2M_3plusmerge_Hypo.txt\r\n"
       ]
      },
      {
       "output_type": "stream",
       "stream": "stdout",
       "text": [
        "      10 ./analyses/TEx_intersect_2M_3plusmerge_Hypo.txt\r\n"
       ]
      },
      {
       "output_type": "stream",
       "stream": "stdout",
       "text": [
        "       9 ./analyses/1k5p_gene_promoter_intersect_2M_3plusmerge_Hypo.txt\r\n"
       ]
      }
     ],
     "prompt_number": 13
    },
    {
     "cell_type": "code",
     "collapsed": false,
     "input": [
      "for i in (\"exon\",\"intron\",\"TEx\",\"1k5p_gene_promoter\"):\n",
      "    !intersectbed \\\n",
      "    -u \\\n",
      "    -a ./analyses/4M_3plusmerge_Hyper.gff \\\n",
      "    -b ./analyses/Cgigas_v9_{i}.gff \\\n",
      "    > ./analyses/{i}_intersect_4M_3plusmerge_Hyper.txt\n",
      "    !wc -l ./analyses/{i}_intersect_4M_3plusmerge_Hyper.txt"
     ],
     "language": "python",
     "metadata": {},
     "outputs": [
      {
       "output_type": "stream",
       "stream": "stdout",
       "text": [
        "       4 ./analyses/exon_intersect_4M_3plusmerge_Hyper.txt\r\n"
       ]
      },
      {
       "output_type": "stream",
       "stream": "stdout",
       "text": [
        "       8 ./analyses/intron_intersect_4M_3plusmerge_Hyper.txt\r\n"
       ]
      },
      {
       "output_type": "stream",
       "stream": "stdout",
       "text": [
        "       0 ./analyses/TEx_intersect_4M_3plusmerge_Hyper.txt\r\n"
       ]
      },
      {
       "output_type": "stream",
       "stream": "stdout",
       "text": [
        "       0 ./analyses/1k5p_gene_promoter_intersect_4M_3plusmerge_Hyper.txt\r\n"
       ]
      }
     ],
     "prompt_number": 14
    },
    {
     "cell_type": "code",
     "collapsed": false,
     "input": [
      "for i in (\"exon\",\"intron\",\"TEx\",\"1k5p_gene_promoter\"):\n",
      "    !intersectbed \\\n",
      "    -u \\\n",
      "    -a ./analyses/4M_3plusmerge_Hypo.gff \\\n",
      "    -b ./analyses/Cgigas_v9_{i}.gff \\\n",
      "    > ./analyses/{i}_intersect_4M_3plusmerge_Hypo.txt\n",
      "    !wc -l ./analyses/{i}_intersect_4M_3plusmerge_Hypo.txt"
     ],
     "language": "python",
     "metadata": {},
     "outputs": [
      {
       "output_type": "stream",
       "stream": "stdout",
       "text": [
        "       7 ./analyses/exon_intersect_4M_3plusmerge_Hypo.txt\r\n"
       ]
      },
      {
       "output_type": "stream",
       "stream": "stdout",
       "text": [
        "      36 ./analyses/intron_intersect_4M_3plusmerge_Hypo.txt\r\n"
       ]
      },
      {
       "output_type": "stream",
       "stream": "stdout",
       "text": [
        "       7 ./analyses/TEx_intersect_4M_3plusmerge_Hypo.txt\r\n"
       ]
      },
      {
       "output_type": "stream",
       "stream": "stdout",
       "text": [
        "       8 ./analyses/1k5p_gene_promoter_intersect_4M_3plusmerge_Hypo.txt\r\n"
       ]
      }
     ],
     "prompt_number": 15
    },
    {
     "cell_type": "code",
     "collapsed": false,
     "input": [
      "for i in (\"exon\",\"intron\",\"TEx\",\"1k5p_gene_promoter\"):\n",
      "    !intersectbed \\\n",
      "    -u \\\n",
      "    -a ./analyses/6M_3plusmerge_Hyper.gff \\\n",
      "    -b ./analyses/Cgigas_v9_{i}.gff \\\n",
      "    > ./analyses/{i}_intersect_6M_3plusmerge_Hyper.txt\n",
      "    !wc -l ./analyses/{i}_intersect_6M_3plusmerge_Hyper.txt"
     ],
     "language": "python",
     "metadata": {},
     "outputs": [
      {
       "output_type": "stream",
       "stream": "stdout",
       "text": [
        "       3 ./analyses/exon_intersect_6M_3plusmerge_Hyper.txt\r\n"
       ]
      },
      {
       "output_type": "stream",
       "stream": "stdout",
       "text": [
        "       9 ./analyses/intron_intersect_6M_3plusmerge_Hyper.txt\r\n"
       ]
      },
      {
       "output_type": "stream",
       "stream": "stdout",
       "text": [
        "       0 ./analyses/TEx_intersect_6M_3plusmerge_Hyper.txt\r\n"
       ]
      },
      {
       "output_type": "stream",
       "stream": "stdout",
       "text": [
        "       0 ./analyses/1k5p_gene_promoter_intersect_6M_3plusmerge_Hyper.txt\r\n"
       ]
      }
     ],
     "prompt_number": 16
    },
    {
     "cell_type": "code",
     "collapsed": false,
     "input": [
      "for i in (\"exon\",\"intron\",\"TEx\",\"1k5p_gene_promoter\"):\n",
      "    !intersectbed \\\n",
      "    -u \\\n",
      "    -a ./analyses/6M_3plusmerge_Hypo.gff \\\n",
      "    -b ./analyses/Cgigas_v9_{i}.gff \\\n",
      "    > ./analyses/{i}_intersect_6M_3plusmerge_Hypo.txt\n",
      "    !wc -l ./analyses/{i}_intersect_6M_3plusmerge_Hypo.txt"
     ],
     "language": "python",
     "metadata": {},
     "outputs": [
      {
       "output_type": "stream",
       "stream": "stdout",
       "text": [
        "       6 ./analyses/exon_intersect_6M_3plusmerge_Hypo.txt\r\n"
       ]
      },
      {
       "output_type": "stream",
       "stream": "stdout",
       "text": [
        "      40 ./analyses/intron_intersect_6M_3plusmerge_Hypo.txt\r\n"
       ]
      },
      {
       "output_type": "stream",
       "stream": "stdout",
       "text": [
        "       0 ./analyses/TEx_intersect_6M_3plusmerge_Hypo.txt\r\n"
       ]
      },
      {
       "output_type": "stream",
       "stream": "stdout",
       "text": [
        "       7 ./analyses/1k5p_gene_promoter_intersect_6M_3plusmerge_Hypo.txt\r\n"
       ]
      }
     ],
     "prompt_number": 17
    },
    {
     "cell_type": "heading",
     "level": 1,
     "metadata": {},
     "source": [
      "Simpler Question - Gene Overlap?"
     ]
    },
    {
     "cell_type": "code",
     "collapsed": false,
     "input": [
      "!ls analyses/dmr/"
     ],
     "language": "python",
     "metadata": {},
     "outputs": [
      {
       "output_type": "stream",
       "stream": "stdout",
       "text": [
        "2M_3plusmerge_Hyper.gff 4M_3plusmerge_Hyper.gff 6M_3plusmerge_Hyper.gff\r\n",
        "2M_3plusmerge_Hypo.gff  4M_3plusmerge_Hypo.gff  6M_3plusmerge_Hypo.gff\r\n"
       ]
      }
     ],
     "prompt_number": 20
    },
    {
     "cell_type": "code",
     "collapsed": false,
     "input": [
      "cd analyses/dmr/"
     ],
     "language": "python",
     "metadata": {},
     "outputs": [
      {
       "output_type": "stream",
       "stream": "stdout",
       "text": [
        "/Users/sr320/git-repos/paper-Temp-stress/ipynb/analyses/dmr\n"
       ]
      }
     ],
     "prompt_number": 25
    },
    {
     "cell_type": "code",
     "collapsed": false,
     "input": [
      "%%bash\n",
      "for f in *.gff\n",
      "do\n",
      "echo $f\n",
      "intersectbed \\\n",
      "-wb \\\n",
      "-a $f \\\n",
      "-b ../Cgigas_v9_gene.gff \\\n",
      "> ../gene_intersect_\"$f\".txt\n",
      "wc -l ../gene_intersect_\"$f\".txt\n",
      "awk '{print $1$2$3}' ../gene_intersect_\"$f\".txt | sort | uniq | wc -l\n",
      "done\n"
     ],
     "language": "python",
     "metadata": {},
     "outputs": [
      {
       "output_type": "stream",
       "stream": "stdout",
       "text": [
        "2M_3plusmerge_Hyper.gff\n",
        "       5 ../gene_intersect_2M_3plusmerge_Hyper.gff.txt\n",
        "       4\n",
        "2M_3plusmerge_Hypo.gff\n",
        "     108 ../gene_intersect_2M_3plusmerge_Hypo.gff.txt\n",
        "     106\n",
        "4M_3plusmerge_Hyper.gff\n",
        "       9 ../gene_intersect_4M_3plusmerge_Hyper.gff.txt\n",
        "       9\n",
        "4M_3plusmerge_Hypo.gff\n",
        "      43 ../gene_intersect_4M_3plusmerge_Hypo.gff.txt\n",
        "      42\n",
        "6M_3plusmerge_Hyper.gff\n",
        "       9 ../gene_intersect_6M_3plusmerge_Hyper.gff.txt\n",
        "       9\n",
        "6M_3plusmerge_Hypo.gff\n",
        "      44 ../gene_intersect_6M_3plusmerge_Hypo.gff.txt\n",
        "      42\n"
       ]
      }
     ],
     "prompt_number": 66
    },
    {
     "cell_type": "code",
     "collapsed": false,
     "input": [
      "!head ../gene_intersect_6M_3plusmerge_Hyper.gff.txt"
     ],
     "language": "python",
     "metadata": {},
     "outputs": [
      {
       "output_type": "stream",
       "stream": "stdout",
       "text": [
        "scaffold1737\t485256\t485565\tscaffold1737\tGLEAN\tmRNA\t465811\t530668\t0.60401\t-\t.\tID=CGI_10018256;\r\n",
        "scaffold1894\t222981\t223032\tscaffold1894\tGLEAN\tmRNA\t215043\t252780\t0.725039\t+\t.\tID=CGI_10013340;\r\n",
        "scaffold1894\t223601\t223653\tscaffold1894\tGLEAN\tmRNA\t215043\t252780\t0.725039\t+\t.\tID=CGI_10013340;\r\n",
        "scaffold1894\t224777\t224838\tscaffold1894\tGLEAN\tmRNA\t215043\t252780\t0.725039\t+\t.\tID=CGI_10013340;\r\n",
        "scaffold392\t326519\t326818\tscaffold392\tGLEAN\tmRNA\t323342\t328165\t1\t+\t.\tID=CGI_10024212;\r\n",
        "scaffold433\t204898\t205194\tscaffold433\tGLEAN\tmRNA\t203495\t226770\t0.837765\t+\t.\tID=CGI_10027060;\r\n",
        "scaffold544\t44676\t44853\tscaffold544\tGLEAN\tmRNA\t43904\t52870\t0.999376\t-\t.\tID=CGI_10022545;\r\n",
        "scaffold544\t45028\t45086\tscaffold544\tGLEAN\tmRNA\t43904\t52870\t0.999376\t-\t.\tID=CGI_10022545;\r\n",
        "scaffold854\t353009\t353316\tscaffold854\tGLEAN\tmRNA\t352110\t370934\t0.574859\t+\t.\tID=CGI_10022251;\r\n"
       ]
      }
     ],
     "prompt_number": 67
    },
    {
     "cell_type": "code",
     "collapsed": false,
     "input": [
      "!cp 6M_3plusmerge_Hyper.gff 6M_3plusmerge_Hyper.bed"
     ],
     "language": "python",
     "metadata": {},
     "outputs": [],
     "prompt_number": 69
    },
    {
     "cell_type": "code",
     "collapsed": false,
     "input": [
      "!head ./analyses/Cgigas_v9_gene.gff"
     ],
     "language": "python",
     "metadata": {},
     "outputs": [
      {
       "output_type": "stream",
       "stream": "stdout",
       "text": [
        "C16582\tGLEAN\tmRNA\t35\t385\t0.555898\t-\t.\tID=CGI_10000001;\r\n",
        "C17212\tGLEAN\tmRNA\t31\t363\t0.999572\t+\t.\tID=CGI_10000002;\r\n",
        "C17316\tGLEAN\tmRNA\t30\t257\t0.555898\t+\t.\tID=CGI_10000003;\r\n",
        "C17476\tGLEAN\tmRNA\t34\t257\t0.998947\t-\t.\tID=CGI_10000004;\r\n",
        "C17998\tGLEAN\tmRNA\t196\t387\t1\t-\t.\tID=CGI_10000005;\r\n",
        "C18346\tGLEAN\tmRNA\t174\t551\t1\t+\t.\tID=CGI_10000009;\r\n",
        "C18428\tGLEAN\tmRNA\t286\t546\t0.555898\t-\t.\tID=CGI_10000010;\r\n",
        "C18964\tGLEAN\tmRNA\t203\t658\t0.999572\t-\t.\tID=CGI_10000011;\r\n",
        "C18980\tGLEAN\tmRNA\t30\t674\t0.555898\t+\t.\tID=CGI_10000012;\r\n",
        "C19100\tGLEAN\tmRNA\t160\t681\t0.999955\t-\t.\tID=CGI_10000013;\r\n"
       ]
      }
     ],
     "prompt_number": 19
    },
    {
     "cell_type": "code",
     "collapsed": false,
     "input": [
      "!awk '{print $1$2}' ../gene_intersect_6M_3plusmerge_Hypo.gff.txt | sort | uniq | wc -l"
     ],
     "language": "python",
     "metadata": {},
     "outputs": [
      {
       "output_type": "stream",
       "stream": "stdout",
       "text": [
        "      42\r\n"
       ]
      }
     ],
     "prompt_number": 65
    },
    {
     "cell_type": "code",
     "collapsed": false,
     "input": [
      "!cut -f1,2 ../gene_intersect_6M_3plusmerge_Hypo.gff.txt\n"
     ],
     "language": "python",
     "metadata": {},
     "outputs": [
      {
       "output_type": "stream",
       "stream": "stdout",
       "text": [
        "scaffold101\t610174\r\n",
        "scaffold101\t610559\r\n",
        "scaffold1204\t66531\r\n",
        "scaffold1235\t34089\r\n",
        "scaffold1235\t34383\r\n",
        "scaffold1249\t494779\r\n",
        "scaffold1264\t68697\r\n",
        "scaffold1493\t16031\r\n",
        "scaffold1719\t330025\r\n",
        "scaffold1719\t330285\r\n",
        "scaffold1752\t17551\r\n",
        "scaffold1752\t17551\r\n",
        "scaffold1752\t17916\r\n",
        "scaffold1752\t17916\r\n",
        "scaffold193\t65914\r\n",
        "scaffold193\t66130\r\n",
        "scaffold193\t66310\r\n",
        "scaffold203\t259584\r\n",
        "scaffold247\t141885\r\n",
        "scaffold247\t144031\r\n",
        "scaffold308\t50213\r\n",
        "scaffold335\t60010\r\n",
        "scaffold335\t60531\r\n",
        "scaffold348\t716142\r\n",
        "scaffold372\t176523\r\n",
        "scaffold372\t176916\r\n",
        "scaffold372\t177146\r\n",
        "scaffold394\t555813\r\n",
        "scaffold40282\t64161\r\n",
        "scaffold42302\t144946\r\n",
        "scaffold42302\t145180\r\n",
        "scaffold43794\t261331\r\n",
        "scaffold43794\t261706\r\n",
        "scaffold457\t43443\r\n",
        "scaffold457\t43703\r\n",
        "scaffold481\t577121\r\n",
        "scaffold542\t242268\r\n",
        "scaffold542\t247837\r\n",
        "scaffold542\t248198\r\n",
        "scaffold579\t198644\r\n",
        "scaffold579\t199044\r\n",
        "scaffold579\t199314\r\n",
        "scaffold588\t57559\r\n",
        "scaffold942\t185812\r\n"
       ]
      }
     ],
     "prompt_number": 55
    },
    {
     "cell_type": "code",
     "collapsed": false,
     "input": [],
     "language": "python",
     "metadata": {},
     "outputs": []
    }
   ],
   "metadata": {}
  }
 ]
}