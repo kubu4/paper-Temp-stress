{
 "metadata": {
  "name": "",
  "signature": "sha256:5b2563decbc39eb67419f0c23c40e68fce9be6f5850dfcd8f9766be4eefd610e"
 },
 "nbformat": 3,
 "nbformat_minor": 0,
 "worksheets": [
  {
   "cells": [
    {
     "cell_type": "code",
     "collapsed": false,
     "input": [
      "!head /Users/sr320/git-repos/paper-Temp-stress/ipynb/data/2014.07.02.colson/genomeBrowserTracks/logFC_HS-preHS/*sig*"
     ],
     "language": "python",
     "metadata": {},
     "outputs": [
      {
       "output_type": "stream",
       "stream": "stdout",
       "text": [
        "==> /Users/sr320/git-repos/paper-Temp-stress/ipynb/data/2014.07.02.colson/genomeBrowserTracks/logFC_HS-preHS/2014.07.02.2M_sig.bedGraph <==\r\n",
        "track type=bedGraph name=\"2M_sig\" description=\"2M_sig\" visibility=full color=100,100,0 altColor=0,100,200 priority=20\r\n",
        "scaffold1\t163391\t163444\t-1.19635354862016\r\n",
        "scaffold1\t167390\t167448\t-1.34858424227208\r\n",
        "scaffold1\t177036\t177092\t-1.32513261026528\r\n",
        "scaffold1\t180263\t180313\t-1.59644601437398\r\n",
        "scaffold1\t184151\t184202\t-1.36802539236446\r\n",
        "scaffold1\t207852\t207911\t-1.4489540693628\r\n",
        "scaffold1\t221645\t221697\t-1.19168816975966\r\n",
        "scaffold100\t20261\t20311\t-1.38705592724581\r\n",
        "scaffold100\t43707\t43766\t-1.94554287545546\r\n",
        "\r\n",
        "==> /Users/sr320/git-repos/paper-Temp-stress/ipynb/data/2014.07.02.colson/genomeBrowserTracks/logFC_HS-preHS/2014.07.02.4M_sig.bedGraph <==\r\n",
        "track type=bedGraph name=\"4M_sig\" description=\"4M_sig\" visibility=full color=100,100,0 altColor=0,100,200 priority=20\r\n",
        "scaffold1\t55723\t55780\t-1.14983078196614\r\n",
        "scaffold1\t162896\t162952\t1.31051906307266\r\n",
        "scaffold1\t165162\t165215\t-1.24601772855566\r\n",
        "scaffold1\t171392\t171453\t-1.22260744814979\r\n",
        "scaffold1\t174020\t174073\t1.13065801555915\r\n",
        "scaffold1\t174287\t174343\t-1.69319890151177\r\n",
        "scaffold1\t176273\t176334\t-1.72785163633438\r\n",
        "scaffold1\t178210\t178267\t1.2199265031441\r\n",
        "scaffold1\t183256\t183318\t-1.30551922539134\r\n",
        "\r\n",
        "==> /Users/sr320/git-repos/paper-Temp-stress/ipynb/data/2014.07.02.colson/genomeBrowserTracks/logFC_HS-preHS/2014.07.02.6M_sig.bedGraph <==\r\n",
        "track type=bedGraph name=\"6M_sig\" description=\"6M_sig\" visibility=full color=100,100,0 altColor=0,100,200 priority=20\r\n",
        "scaffold1\t54599\t54654\t-1.38187662416007\r\n",
        "scaffold1\t162129\t162191\t1.85685479189849\r\n",
        "scaffold1\t163536\t163586\t-1.15032035523765\r\n",
        "scaffold1\t172654\t172714\t1.33561271440876\r\n",
        "scaffold1\t174287\t174343\t-1.62903936976887\r\n",
        "scaffold1\t178075\t178128\t1.42323539316231\r\n",
        "scaffold1\t178685\t178740\t1.30886296151914\r\n",
        "scaffold1\t184271\t184330\t-1.20699853451878\r\n",
        "scaffold1\t184661\t184715\t-1.61107459826899\r\n"
       ]
      }
     ],
     "prompt_number": 3
    },
    {
     "cell_type": "code",
     "collapsed": false,
     "input": [],
     "language": "python",
     "metadata": {},
     "outputs": []
    }
   ],
   "metadata": {}
  }
 ]
}