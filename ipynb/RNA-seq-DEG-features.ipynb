{
 "metadata": {
  "name": "",
  "signature": "sha256:c806c5ee95d720500cbc841dbfe373d2a94bc5865023692b91050da4b56636fc"
 },
 "nbformat": 3,
 "nbformat_minor": 0,
 "worksheets": [
  {
   "cells": [
    {
     "cell_type": "code",
     "collapsed": false,
     "input": [
      "for i in (\"2M_3plusmerge_Hyper\",\"2M_3plusmerge_Hypo\",\"4M_3plusmerge_Hyper\",\"4M_3plusmerge_Hypo\",\"6M_3plusmerge_Hyper\",\"6M_3plusmerge_Hypo\"):\n",
      "    !intersectbed \\\n",
      "    -u \\\n",
      "    -a ./analyses/{i}.gff \\\n",
      "    -b ./data/Cuffdiff2_heat-b-2014-12-20-22-27-15.4/rebuilt.gtf \\\n",
      "    > ./analyses/{i}_intersect_rebuilt.txt\n",
      "    !wc -l ./analyses/{i}_intersect_rebuilt.txt"
     ],
     "language": "python",
     "metadata": {},
     "outputs": [
      {
       "output_type": "stream",
       "stream": "stdout",
       "text": [
        "       0 ./analyses/2M_3plusmerge_Hyper_intersect_rebuilt.txt\r\n"
       ]
      },
      {
       "output_type": "stream",
       "stream": "stdout",
       "text": [
        "      38 ./analyses/2M_3plusmerge_Hypo_intersect_rebuilt.txt\r\n"
       ]
      },
      {
       "output_type": "stream",
       "stream": "stdout",
       "text": [
        "       4 ./analyses/4M_3plusmerge_Hyper_intersect_rebuilt.txt\r\n"
       ]
      },
      {
       "output_type": "stream",
       "stream": "stdout",
       "text": [
        "       6 ./analyses/4M_3plusmerge_Hypo_intersect_rebuilt.txt\r\n"
       ]
      },
      {
       "output_type": "stream",
       "stream": "stdout",
       "text": [
        "       4 ./analyses/6M_3plusmerge_Hyper_intersect_rebuilt.txt\r\n"
       ]
      },
      {
       "output_type": "stream",
       "stream": "stdout",
       "text": [
        "       7 ./analyses/6M_3plusmerge_Hypo_intersect_rebuilt.txt\r\n"
       ]
      }
     ],
     "prompt_number": 2
    },
    {
     "cell_type": "code",
     "collapsed": false,
     "input": [
      "!head /Users/sr320/git-repos/paper-Temp-stress/ipynb/data/Cuffdiff2_heat-b-2014-12-20-22-27-15.4/cuffdiff_out/cuffData.db"
     ],
     "language": "python",
     "metadata": {},
     "outputs": [
      {
       "output_type": "stream",
       "stream": "stdout",
       "text": [
        "SQLite format 3\u0000\u0004\u0000\u0001\u0001\u0000@  \u0000\u0000\u0000H\u0000\u0001\ufffd\ufffd\u0000\u0000\u0000\u0000\u0000\u0000\u0000\u0000\u0000\u0000\u0000M\u0000\u0000\u0000\u0001\u0000\u0000\u0000\u0000\u0000\u0000\u0000\u0000\u0000\u0000\u0000\u0001\u0000\u0000\u0000\u0000\u0000\u0000\u0000\u0000\u0000\u0000\u0000\u0000\u0000\u0000\u0000\u0000\u0000\u0000\u0000\u0000\u0000\u0000\u0000\u0000\u0000\u0000\u0000\u0000\u0000\u0000\u0000\u0000\u0000\u0000\u0000H\u0000-\ufffd!\u0005\u0000\u0000\u0000\u0015\u0003\ufffd\u0000\u0000\u0001\ufffd|\u0003\ufffd\u0003\ufffd\u0003\ufffd\u0003\ufffd\u0003\ufffd\u0003\ufffd\u0003\ufffd\u0003\ufffd\u0003\ufffd\u0003\ufffd\u0003\ufffd\u0003\ufffd\u0003\ufffd\u0003\ufffd\u0003\ufffd\u0003\ufffd\u0003\ufffd\u0003\ufffd\u0003\ufffd\u0003\ufffd\u0003\ufffd\u0000\u0000\u0000\u0000\u0000\u0000\u0000\u0000\u0000\u0000\u0000\u0000\u0000\u0000\u0000\u0000\u0000\u0000\u0000\u0000\u0000\u0000\u0000\u0000\u0000\u0000\u0000\u0000\u0000\u0000\u0000\u0000\u0000\u0000\u0000\u0000\u0000\u0000\u0000\u0000\u0000\u0000\u0000\u0000\u0000\u0000\u0000\u0000\u0000\u0000\u0000\u0000\u0000\u0000\u0000\u0000\u0000\u0000\u0000\u0000\u0000\u0000\u0000\u0000\u0000\u0000\u0000\u0000\u0000\u0000\u0000\u0000\u0000\u0000\u0000\u0000\u0000\u0000\u0000\u0000\u0000\u0000\u0000\u0000\u0000\u0000\u0000\u0000\u0000\u0000\u0000\u0000\u0000\u0000\u0000\u0000\u0000\u0000\u0000\u0000\u0000\u0000\u0000\u0000\u0000\u0000\u0000\u0000\u0000\u0000\u0000\u0000\u0000\u0000\u0000\u0000\u0000\u0000\u0000\u0000\u0000\u0000\u0000\u0000\u0000\u0000\u0000\u0000\u0000\u0000\u0000\u0000\u0000\u0000\u0000\u0000\u0000\u0000\u0000\u0000\u0000\u0000\u0000\u0000\u0000\u0000\u0000\u0000\u0000\u0000\u0000\u0000\u0000\u0000\u0000\u0000\u0000\u0000\u0000\u0000\u0000\u0000\u0000\u0000\u0000\u0000\u0000\u0000\u0000\u0000\u0000\u0000\u0000\u0000\u0000\u0000\u0000\u0000\u0000\u0000\u0000\u0000\u0000\u0000\u0000\u0000\u0000\u0000\u0000\u0000\u0000\u0000\u0000\u0000\u0000\u0000\u0000\u0000\u0000\u0000\u0000\u0000\u0000\u0000\u0000\u0000\u0000\u0000\u0000\u0000\u0000\u0000\u0000\u0000\u0000\u0000\u0000\u0000\u0000\u0000\u0000\u0000\u0000\u0000\u0000\u0000\u0000\u0000\u0000\u0000\u0000\u0000\u0000\u0000\u0000\u0000\u0000\u0000\u0000\u0000\u0000\u0000\u0000\u0000\u0000\u0000\u0000\u0000\u0000\u0000\u0000\u0000\u0000\u0000\u0000\u0000\u0000\u0000\u0000\u0000\u0000\u0000\u0000\u0000\u0000\u0000\u0000\u0000\u0000\u0000\u0000\u0000\u0000\u0000\u0000\u0000\u0000\u0000\u0000\u0000\u0000\u0000\u0000\u0000\u0000\u0000\u0000\u0000\u0000\u0000\u0000\u0000\u0000%\u0006\u0006\u00179\u0013\u0001\u0000indexsqlite_autoindex_TSS_1TSS\u0007\ufffd\b\u0004\u0007\u0017\u001b\u001b\u0001\ufffdgtablesamplessamples\u0005CREATE TABLE \"samples\"(\r\n",
        "  \"sample_index\" INTEGER PRIMARY KEY NOT NULL,\r\n",
        "  \"sample_name\" VARCHAR(45) NOT NULL\r\n",
        ")d\u0003\u0007\u0017\u001d",
        "\u001d",
        "\u0001\ufffd\u001btablebiasDatabiasData\u0004CREATE TABLE \"biasData\"(\r\n",
        "  \"biasData_id\" INTEGER PRIMARY KEY NOT NULL\r\n",
        ")\ufffdw\u0001\u0007\u0017\u0017\u0017\u0001\ufffdMtablegenesgenes\u0002CREATE TABLE \"genes\"(\r\n",
        "  \"gene_id\" VARCHAR(45) PRIMARY KEY NOT NULL,\r\n",
        "  \"class_code\" VARCHAR(45),\r\n",
        "  \"nearest_ref_id\" VARCHAR(45),\r\n",
        "  \"gene_short_name\" VARCHAR(45),\r\n"
       ]
      }
     ],
     "prompt_number": 3
    },
    {
     "cell_type": "code",
     "collapsed": false,
     "input": [],
     "language": "python",
     "metadata": {},
     "outputs": []
    },
    {
     "cell_type": "code",
     "collapsed": false,
     "input": [],
     "language": "python",
     "metadata": {},
     "outputs": []
    }
   ],
   "metadata": {}
  }
 ]
}