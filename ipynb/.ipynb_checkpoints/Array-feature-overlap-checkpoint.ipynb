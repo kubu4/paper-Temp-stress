{
 "metadata": {
  "name": "",
  "signature": "sha256:ab64d675314b855ead2878bab4e560c062b24666376b6917aaede0fa3291f680"
 },
 "nbformat": 3,
 "nbformat_minor": 0,
 "worksheets": [
  {
   "cells": [
    {
     "cell_type": "heading",
     "level": 1,
     "metadata": {},
     "source": [
      "Where to '3plus merged` overlap"
     ]
    },
    {
     "cell_type": "code",
     "collapsed": false,
     "input": [
      "!head -1 ./analyses/*"
     ],
     "language": "python",
     "metadata": {},
     "outputs": [
      {
       "output_type": "stream",
       "stream": "stdout",
       "text": [
        "==> ./analyses/2M_3plusmerge_Hyper.gff <==\r\n",
        "scaffold1583\t976276\t976596\r\n",
        "\r\n",
        "==> ./analyses/2M_3plusmerge_Hypo.gff <==\r\n",
        "scaffold1016\t249436\t249737\r\n",
        "\r\n",
        "==> ./analyses/4M_3plusmerge_Hyper.gff <==\r\n",
        "scaffold1241\t28111\t28419\r\n",
        "\r\n",
        "==> ./analyses/4M_3plusmerge_Hypo.gff <==\r\n",
        "scaffold100\t804406\t804960\r\n",
        "\r\n",
        "==> ./analyses/6M_3plusmerge_Hyper.gff <==\r\n",
        "scaffold1737\t485256\t485565\r\n",
        "\r\n",
        "==> ./analyses/6M_3plusmerge_Hypo.gff <==\r\n",
        "scaffold101\t610174\t610236\r\n"
       ]
      }
     ],
     "prompt_number": 2
    },
    {
     "cell_type": "heading",
     "level": 1,
     "metadata": {},
     "source": [
      "List of Canonical Features"
     ]
    },
    {
     "cell_type": "code",
     "collapsed": false,
     "input": [
      "for i in (\"exon\",\"intron\",\"TEx\",\"gene\",\"1k5p_gene_promoter\",\"CG\"):\n",
      "    !curl http://eagle.fish.washington.edu/trilobite/Crassostrea_gigas_v9_tracks/Cgigas_v9_{i}.gff > ./analyses/Cgigas_v9_{i}.gff"
     ],
     "language": "python",
     "metadata": {},
     "outputs": [
      {
       "output_type": "stream",
       "stream": "stdout",
       "text": [
        "  % Total    % Received % Xferd  Average Speed   Time    Time     Time  Current\r\n",
        "                                 Dload  Upload   Total   Spent    Left  Speed\r\n",
        "\r",
        "  0     0    0     0    0     0      0      0 --:--:-- --:--:-- --:--:--     0"
       ]
      },
      {
       "output_type": "stream",
       "stream": "stdout",
       "text": [
        "\r",
        "  1 11.7M    1  144k    0     0   870k      0  0:00:13 --:--:--  0:00:13  867k"
       ]
      },
      {
       "output_type": "stream",
       "stream": "stdout",
       "text": [
        "\r",
        "100 11.7M  100 11.7M    0     0  33.7M      0 --:--:-- --:--:-- --:--:-- 33.6M\r\n"
       ]
      },
      {
       "output_type": "stream",
       "stream": "stdout",
       "text": [
        "  % Total    % Received % Xferd  Average Speed   Time    Time     Time  Current\r\n",
        "                                 Dload  Upload   Total   Spent    Left  Speed\r\n",
        "\r",
        "  0     0    0     0    0     0      0      0 --:--:-- --:--:-- --:--:--     0"
       ]
      },
      {
       "output_type": "stream",
       "stream": "stdout",
       "text": [
        "\r",
        "100 12.0M  100 12.0M    0     0  57.6M      0 --:--:-- --:--:-- --:--:-- 57.7M\r\n"
       ]
      },
      {
       "output_type": "stream",
       "stream": "stdout",
       "text": [
        "  % Total    % Received % Xferd  Average Speed   Time    Time     Time  Current\r\n",
        "                                 Dload  Upload   Total   Spent    Left  Speed\r\n",
        "\r",
        "  0     0    0     0    0     0      0      0 --:--:-- --:--:-- --:--:--     0"
       ]
      },
      {
       "output_type": "stream",
       "stream": "stdout",
       "text": [
        "\r",
        "100 3129k  100 3129k    0     0  34.9M      0 --:--:-- --:--:-- --:--:-- 35.1M\r\n"
       ]
      },
      {
       "output_type": "stream",
       "stream": "stdout",
       "text": [
        "  % Total    % Received % Xferd  Average Speed   Time    Time     Time  Current\r\n",
        "                                 Dload  Upload   Total   Spent    Left  Speed\r\n",
        "\r",
        "  0     0    0     0    0     0      0      0 --:--:-- --:--:-- --:--:--     0"
       ]
      },
      {
       "output_type": "stream",
       "stream": "stdout",
       "text": [
        "\r",
        "100 1777k  100 1777k    0     0  30.0M      0 --:--:-- --:--:-- --:--:-- 30.4M\r\n"
       ]
      },
      {
       "output_type": "stream",
       "stream": "stdout",
       "text": [
        "  % Total    % Received % Xferd  Average Speed   Time    Time     Time  Current\r\n",
        "                                 Dload  Upload   Total   Spent    Left  Speed\r\n",
        "\r",
        "  0     0    0     0    0     0      0      0 --:--:-- --:--:-- --:--:--     0"
       ]
      },
      {
       "output_type": "stream",
       "stream": "stdout",
       "text": [
        "\r",
        "100 1848k  100 1848k    0     0  31.1M      0 --:--:-- --:--:-- --:--:-- 31.6M\r\n"
       ]
      },
      {
       "output_type": "stream",
       "stream": "stdout",
       "text": [
        "  % Total    % Received % Xferd  Average Speed   Time    Time     Time  Current\r\n",
        "                                 Dload  Upload   Total   Spent    Left  Speed\r\n",
        "\r",
        "  0     0    0     0    0     0      0      0 --:--:-- --:--:-- --:--:--     0"
       ]
      },
      {
       "output_type": "stream",
       "stream": "stdout",
       "text": [
        "\r",
        "  7  932M    7 68.0M    0     0  87.6M      0  0:00:10 --:--:--  0:00:10 87.6M"
       ]
      },
      {
       "output_type": "stream",
       "stream": "stdout",
       "text": [
        "\r",
        " 17  932M   17  163M    0     0  91.8M      0  0:00:10  0:00:01  0:00:09 91.8M"
       ]
      },
      {
       "output_type": "stream",
       "stream": "stdout",
       "text": [
        "\r",
        " 28  932M   28  270M    0     0  97.3M      0  0:00:09  0:00:02  0:00:07 97.3M"
       ]
      },
      {
       "output_type": "stream",
       "stream": "stdout",
       "text": [
        "\r",
        " 39  932M   39  370M    0     0  98.0M      0  0:00:09  0:00:03  0:00:06 98.0M"
       ]
      },
      {
       "output_type": "stream",
       "stream": "stdout",
       "text": [
        "\r",
        " 48  932M   48  452M    0     0  94.7M      0  0:00:09  0:00:04  0:00:05 94.7M"
       ]
      },
      {
       "output_type": "stream",
       "stream": "stdout",
       "text": [
        "\r",
        " 54  932M   54  508M    0     0  87.9M      0  0:00:10  0:00:05  0:00:05 87.9M"
       ]
      },
      {
       "output_type": "stream",
       "stream": "stdout",
       "text": [
        "\r",
        " 61  932M   61  570M    0     0  84.2M      0  0:00:11  0:00:06  0:00:05 81.5M"
       ]
      },
      {
       "output_type": "stream",
       "stream": "stdout",
       "text": [
        "\r",
        " 72  932M   72  679M    0     0  87.3M      0  0:00:10  0:00:07  0:00:03 81.7M"
       ]
      },
      {
       "output_type": "stream",
       "stream": "stdout",
       "text": [
        "\r",
        " 83  932M   83  777M    0     0  88.5M      0  0:00:10  0:00:08  0:00:02 81.4M"
       ]
      },
      {
       "output_type": "stream",
       "stream": "stdout",
       "text": [
        "\r",
        " 92  932M   92  857M    0     0  87.7M      0  0:00:10  0:00:09  0:00:01 81.0M"
       ]
      },
      {
       "output_type": "stream",
       "stream": "stdout",
       "text": [
        "\r",
        "100  932M  100  932M    0     0  88.3M      0  0:00:10  0:00:10 --:--:-- 88.9M\r\n"
       ]
      }
     ],
     "prompt_number": 8
    },
    {
     "cell_type": "code",
     "collapsed": false,
     "input": [
      "!head -3 ./analyses/Cgiga*"
     ],
     "language": "python",
     "metadata": {},
     "outputs": [
      {
       "output_type": "stream",
       "stream": "stdout",
       "text": [
        "==> ./analyses/Cgigas_v9_1k5p_gene_promoter.gff <==\r\n",
        "C16582\tflankbed\tpromoter\t386\t395\t.\t-\t.\tID=CGI_10000001;\r",
        "\r\n",
        "C17212\tflankbed\tpromoter\t1\t30\t.\t+\t.\tID=CGI_10000002;\r",
        "\r\n",
        "C17316\tflankbed\tpromoter\t1\t29\t.\t+\t.\tID=CGI_10000003;\r",
        "\r\n",
        "\r\n",
        "==> ./analyses/Cgigas_v9_CG.gff <==\r\n",
        "##gff-version 3\r\n",
        "##sequence-region scaffold360 1 280\r\n",
        "#!Date 2013-04-23\r\n",
        "\r\n",
        "==> ./analyses/Cgigas_v9_TEx.gff <==\r\n",
        "scaffold1479\tWUBlastX\tLTR_Gypsy\t2608\t4209\t104\t+\t.\t.\r\n",
        "C33730\tWUBlastX\tLTR_Pao\t1960\t2589\t652\t-\t.\t.\r\n",
        "C33730\tWUBlastX\tLTR_Pao\t3358\t5868\t1471\t-\t.\t.\r\n",
        "\r\n",
        "==> ./analyses/Cgigas_v9_exon.gff <==\r\n",
        "C16582\tGLEAN\tCDS\t35\t385\t.\t-\t0\tParent=CGI_10000001;\r\n",
        "C17212\tGLEAN\tCDS\t31\t363\t.\t+\t0\tParent=CGI_10000002;\r\n",
        "C17316\tGLEAN\tCDS\t30\t257\t.\t+\t0\tParent=CGI_10000003;\r\n",
        "\r\n",
        "==> ./analyses/Cgigas_v9_gene.gff <==\r\n",
        "C16582\tGLEAN\tmRNA\t35\t385\t0.555898\t-\t.\tID=CGI_10000001;\r\n",
        "C17212\tGLEAN\tmRNA\t31\t363\t0.999572\t+\t.\tID=CGI_10000002;\r\n",
        "C17316\tGLEAN\tmRNA\t30\t257\t0.555898\t+\t.\tID=CGI_10000003;\r\n",
        "\r\n",
        "==> ./analyses/Cgigas_v9_intron.gff <==\r\n",
        "C17476\tsubtractBed\tintrn\t75\t103\t.\t-\t.\tParent=CGI_10000004;\r",
        "\r\n",
        "C19392\tsubtractBed\tintrn\t184\t451\t.\t+\t.\tParent=CGI_10000015;\r",
        "\r\n",
        "C20262\tsubtractBed\tintrn\t539\t641\t.\t-\t.\tParent=CGI_10000025;\r",
        "\r\n"
       ]
      }
     ],
     "prompt_number": 11
    },
    {
     "cell_type": "code",
     "collapsed": false,
     "input": [
      "for i in (\"exon\",\"intron\",\"TEx\",\"1k5p_gene_promoter\"):\n",
      "    !intersectbed \\\n",
      "    -u \\\n",
      "    -a ./analyses/2M_3plusmerge_Hyper.gff \\\n",
      "    -b ./analyses/Cgigas_v9_{i}.gff \\\n",
      "    > ./analyses/{i}_intersect_2M_3plusmerge_Hyper.txt\n",
      "    !wc -l ./analyses/{i}_intersect_2M_3plusmerge_Hyper.txt"
     ],
     "language": "python",
     "metadata": {},
     "outputs": [
      {
       "output_type": "stream",
       "stream": "stdout",
       "text": [
        "       1 ./analyses/exon_intersect_2M_3plusmerge_Hyper.txt\r\n"
       ]
      },
      {
       "output_type": "stream",
       "stream": "stdout",
       "text": [
        "       4 ./analyses/intron_intersect_2M_3plusmerge_Hyper.txt\r\n"
       ]
      },
      {
       "output_type": "stream",
       "stream": "stdout",
       "text": [
        "       0 ./analyses/TEx_intersect_2M_3plusmerge_Hyper.txt\r\n"
       ]
      },
      {
       "output_type": "stream",
       "stream": "stdout",
       "text": [
        "       0 ./analyses/1k5p_gene_promoter_intersect_2M_3plusmerge_Hyper.txt\r\n"
       ]
      }
     ],
     "prompt_number": 12
    },
    {
     "cell_type": "code",
     "collapsed": false,
     "input": [
      "for i in (\"exon\",\"intron\",\"TEx\",\"1k5p_gene_promoter\"):\n",
      "    !intersectbed \\\n",
      "    -u \\\n",
      "    -a ./analyses/2M_3plusmerge_Hypo.gff \\\n",
      "    -b ./analyses/Cgigas_v9_{i}.gff \\\n",
      "    > ./analyses/{i}_intersect_2M_3plusmerge_Hypo.txt\n",
      "    !wc -l ./analyses/{i}_intersect_2M_3plusmerge_Hypo.txt"
     ],
     "language": "python",
     "metadata": {},
     "outputs": [
      {
       "output_type": "stream",
       "stream": "stdout",
       "text": [
        "      36 ./analyses/exon_intersect_2M_3plusmerge_Hypo.txt\r\n"
       ]
      },
      {
       "output_type": "stream",
       "stream": "stdout",
       "text": [
        "      89 ./analyses/intron_intersect_2M_3plusmerge_Hypo.txt\r\n"
       ]
      },
      {
       "output_type": "stream",
       "stream": "stdout",
       "text": [
        "      10 ./analyses/TEx_intersect_2M_3plusmerge_Hypo.txt\r\n"
       ]
      },
      {
       "output_type": "stream",
       "stream": "stdout",
       "text": [
        "       9 ./analyses/1k5p_gene_promoter_intersect_2M_3plusmerge_Hypo.txt\r\n"
       ]
      }
     ],
     "prompt_number": 13
    },
    {
     "cell_type": "code",
     "collapsed": false,
     "input": [
      "for i in (\"exon\",\"intron\",\"TEx\",\"1k5p_gene_promoter\"):\n",
      "    !intersectbed \\\n",
      "    -u \\\n",
      "    -a ./analyses/4M_3plusmerge_Hyper.gff \\\n",
      "    -b ./analyses/Cgigas_v9_{i}.gff \\\n",
      "    > ./analyses/{i}_intersect_4M_3plusmerge_Hyper.txt\n",
      "    !wc -l ./analyses/{i}_intersect_4M_3plusmerge_Hyper.txt"
     ],
     "language": "python",
     "metadata": {},
     "outputs": [
      {
       "output_type": "stream",
       "stream": "stdout",
       "text": [
        "       4 ./analyses/exon_intersect_4M_3plusmerge_Hyper.txt\r\n"
       ]
      },
      {
       "output_type": "stream",
       "stream": "stdout",
       "text": [
        "       8 ./analyses/intron_intersect_4M_3plusmerge_Hyper.txt\r\n"
       ]
      },
      {
       "output_type": "stream",
       "stream": "stdout",
       "text": [
        "       0 ./analyses/TEx_intersect_4M_3plusmerge_Hyper.txt\r\n"
       ]
      },
      {
       "output_type": "stream",
       "stream": "stdout",
       "text": [
        "       0 ./analyses/1k5p_gene_promoter_intersect_4M_3plusmerge_Hyper.txt\r\n"
       ]
      }
     ],
     "prompt_number": 14
    },
    {
     "cell_type": "code",
     "collapsed": false,
     "input": [
      "for i in (\"exon\",\"intron\",\"TEx\",\"1k5p_gene_promoter\"):\n",
      "    !intersectbed \\\n",
      "    -u \\\n",
      "    -a ./analyses/4M_3plusmerge_Hypo.gff \\\n",
      "    -b ./analyses/Cgigas_v9_{i}.gff \\\n",
      "    > ./analyses/{i}_intersect_4M_3plusmerge_Hypo.txt\n",
      "    !wc -l ./analyses/{i}_intersect_4M_3plusmerge_Hypo.txt"
     ],
     "language": "python",
     "metadata": {},
     "outputs": [
      {
       "output_type": "stream",
       "stream": "stdout",
       "text": [
        "       7 ./analyses/exon_intersect_4M_3plusmerge_Hypo.txt\r\n"
       ]
      },
      {
       "output_type": "stream",
       "stream": "stdout",
       "text": [
        "      36 ./analyses/intron_intersect_4M_3plusmerge_Hypo.txt\r\n"
       ]
      },
      {
       "output_type": "stream",
       "stream": "stdout",
       "text": [
        "       7 ./analyses/TEx_intersect_4M_3plusmerge_Hypo.txt\r\n"
       ]
      },
      {
       "output_type": "stream",
       "stream": "stdout",
       "text": [
        "       8 ./analyses/1k5p_gene_promoter_intersect_4M_3plusmerge_Hypo.txt\r\n"
       ]
      }
     ],
     "prompt_number": 15
    },
    {
     "cell_type": "code",
     "collapsed": false,
     "input": [
      "for i in (\"exon\",\"intron\",\"TEx\",\"1k5p_gene_promoter\"):\n",
      "    !intersectbed \\\n",
      "    -u \\\n",
      "    -a ./analyses/6M_3plusmerge_Hyper.gff \\\n",
      "    -b ./analyses/Cgigas_v9_{i}.gff \\\n",
      "    > ./analyses/{i}_intersect_6M_3plusmerge_Hyper.txt\n",
      "    !wc -l ./analyses/{i}_intersect_6M_3plusmerge_Hyper.txt"
     ],
     "language": "python",
     "metadata": {},
     "outputs": [
      {
       "output_type": "stream",
       "stream": "stdout",
       "text": [
        "       3 ./analyses/exon_intersect_6M_3plusmerge_Hyper.txt\r\n"
       ]
      },
      {
       "output_type": "stream",
       "stream": "stdout",
       "text": [
        "       9 ./analyses/intron_intersect_6M_3plusmerge_Hyper.txt\r\n"
       ]
      },
      {
       "output_type": "stream",
       "stream": "stdout",
       "text": [
        "       0 ./analyses/TEx_intersect_6M_3plusmerge_Hyper.txt\r\n"
       ]
      },
      {
       "output_type": "stream",
       "stream": "stdout",
       "text": [
        "       0 ./analyses/1k5p_gene_promoter_intersect_6M_3plusmerge_Hyper.txt\r\n"
       ]
      }
     ],
     "prompt_number": 16
    },
    {
     "cell_type": "code",
     "collapsed": false,
     "input": [
      "for i in (\"exon\",\"intron\",\"TEx\",\"1k5p_gene_promoter\"):\n",
      "    !intersectbed \\\n",
      "    -u \\\n",
      "    -a ./analyses/6M_3plusmerge_Hypo.gff \\\n",
      "    -b ./analyses/Cgigas_v9_{i}.gff \\\n",
      "    > ./analyses/{i}_intersect_6M_3plusmerge_Hypo.txt\n",
      "    !wc -l ./analyses/{i}_intersect_6M_3plusmerge_Hypo.txt"
     ],
     "language": "python",
     "metadata": {},
     "outputs": [
      {
       "output_type": "stream",
       "stream": "stdout",
       "text": [
        "       6 ./analyses/exon_intersect_6M_3plusmerge_Hypo.txt\r\n"
       ]
      },
      {
       "output_type": "stream",
       "stream": "stdout",
       "text": [
        "      40 ./analyses/intron_intersect_6M_3plusmerge_Hypo.txt\r\n"
       ]
      },
      {
       "output_type": "stream",
       "stream": "stdout",
       "text": [
        "       0 ./analyses/TEx_intersect_6M_3plusmerge_Hypo.txt\r\n"
       ]
      },
      {
       "output_type": "stream",
       "stream": "stdout",
       "text": [
        "       7 ./analyses/1k5p_gene_promoter_intersect_6M_3plusmerge_Hypo.txt\r\n"
       ]
      }
     ],
     "prompt_number": 17
    },
    {
     "cell_type": "code",
     "collapsed": false,
     "input": [],
     "language": "python",
     "metadata": {},
     "outputs": []
    }
   ],
   "metadata": {}
  }
 ]
}