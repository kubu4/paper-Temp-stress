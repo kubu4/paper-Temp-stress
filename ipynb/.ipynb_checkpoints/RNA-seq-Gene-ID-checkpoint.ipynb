{
 "metadata": {
  "name": "",
  "signature": "sha256:73fb80bb863e1f9740209284d96835d3b1ec04c670a411cf5a64513ea8e4389b"
 },
 "nbformat": 3,
 "nbformat_minor": 0,
 "worksheets": [
  {
   "cells": [
    {
     "cell_type": "code",
     "collapsed": false,
     "input": [
      "for i in (\"2M_3plusmerge_Hyper\",\"2M_3plusmerge_Hypo\",\"4M_3plusmerge_Hyper\",\"4M_3plusmerge_Hypo\",\"6M_3plusmerge_Hyper\",\"6M_3plusmerge_Hypo\"):\n",
      "    !intersectbed \\\n",
      "    -u \\\n",
      "    -a ./analyses/{i}.gff \\\n",
      "    -b ./data/Cuffdiff2_heat-b-2014-12-20-22-27-15.4/rebuilt.gtf \\\n",
      "    > ./analyses/{i}_intersect_rebuilt.txt\n",
      "    !wc -l ./analyses/{i}_intersect_rebuilt.txt"
     ],
     "language": "python",
     "metadata": {},
     "outputs": [
      {
       "output_type": "stream",
       "stream": "stdout",
       "text": [
        "       0 ./analyses/2M_3plusmerge_Hyper_intersect_rebuilt.txt\r\n"
       ]
      },
      {
       "output_type": "stream",
       "stream": "stdout",
       "text": [
        "      38 ./analyses/2M_3plusmerge_Hypo_intersect_rebuilt.txt\r\n"
       ]
      },
      {
       "output_type": "stream",
       "stream": "stdout",
       "text": [
        "       4 ./analyses/4M_3plusmerge_Hyper_intersect_rebuilt.txt\r\n"
       ]
      },
      {
       "output_type": "stream",
       "stream": "stdout",
       "text": [
        "       6 ./analyses/4M_3plusmerge_Hypo_intersect_rebuilt.txt\r\n"
       ]
      },
      {
       "output_type": "stream",
       "stream": "stdout",
       "text": [
        "       4 ./analyses/6M_3plusmerge_Hyper_intersect_rebuilt.txt\r\n"
       ]
      },
      {
       "output_type": "stream",
       "stream": "stdout",
       "text": [
        "       7 ./analyses/6M_3plusmerge_Hypo_intersect_rebuilt.txt\r\n"
       ]
      }
     ],
     "prompt_number": 2
    },
    {
     "cell_type": "code",
     "collapsed": false,
     "input": [
      "!head ./data/Cuffdiff2_heat-b-2014-12-20-22-27-15.4/sorted_data/transcripts.sorted_by_expression.sig.txt"
     ],
     "language": "python",
     "metadata": {},
     "outputs": [
      {
       "output_type": "stream",
       "stream": "stdout",
       "text": [
        "transcript\tgene_id\tgene_name\tsample1\tsample2\tfold_change\tdirection\ttotal_fpkm\tq-value\tgene_description\r\n",
        "TCONS_00000151\tXLOC_000150\t-\tPre\tPost\t10.39\tDOWN\t73075.04\t0.00719642\t\r\n",
        "EKC38373\tCGI_10021746\t.\tPre\tPost\t7.38\tDOWN\t15907.68\t0.00719642\t\r\n",
        "TCONS_00059114\tXLOC_028369\t-\tPre\tPost\t3.51\tDOWN\t9471.62\t0.0127885\t\r\n",
        "TCONS_00056889\tXLOC_027306\t-\tPre\tPost\t6.06\tDOWN\t7890.30\t0.00719642\t\r\n",
        "TCONS_00009938\tXLOC_005260\t-\tPre\tPost\t7.58\tUP\t5938.99\t0.00719642\t\r\n",
        "TCONS_00056778\tXLOC_027247\t-\tPre\tPost\t26.46\tDOWN\t4302.28\t0.00719642\t\r\n",
        "CUFF.27309.3\tCGI_10020701\t.\tPre\tPost\t239.95\tDOWN\t4258.40\t0.00719642\t\r\n",
        "EKC29329\tCGI_10009812\t.\tPre\tPost\t4.85\tDOWN\t4234.84\t0.00719642\t\r\n",
        "EKC28175\tCGI_10014343\t.\tPre\tPost\t29.50\tDOWN\t3226.38\t0.00719642\t\r\n"
       ]
      }
     ],
     "prompt_number": 2
    },
    {
     "cell_type": "code",
     "collapsed": false,
     "input": [
      "!head ./data/Cuffdiff2_heat-b-2014-12-20-22-27-15.4/sorted_data/genes.sorted_by_expression.sig.txt"
     ],
     "language": "python",
     "metadata": {},
     "outputs": [
      {
       "output_type": "stream",
       "stream": "stdout",
       "text": [
        "gene_id\tgene_name\tsample1\tsample2\tfold_change\tdirection\ttotal_fpkm\tq-value\tgene_description\r\n",
        "XLOC_000150\t-\tPre\tPost\t10.39\tDOWN\t73075.04\t0.00215\t\r\n",
        "CGI_10027591\tFER\tPre\tPost\t6.36\tUP\t43013.84\t0.0255944\t\r\n",
        "CGI_10021746\t.\tPre\tPost\t7.38\tDOWN\t15907.68\t0.00215\t\r\n",
        "CGI_10021747\t.\tPre\tPost\t3.23\tDOWN\t11600.86\t0.0409378\t\r\n",
        "XLOC_016561\t-\tPre\tPost\t3.94\tUP\t10548.12\t0.00666529\t\r\n",
        "XLOC_028369\t-\tPre\tPost\t3.51\tDOWN\t9471.62\t0.00382598\t\r\n",
        "XLOC_027306\t-\tPre\tPost\t6.06\tDOWN\t7890.30\t0.00215\t\r\n",
        "CGI_10019465\t.\tPre\tPost\t4.58\tDOWN\t7665.63\t0.00889927\t\r\n",
        "XLOC_033234\t-\tPre\tPost\t2.55\tUP\t6049.62\t0.026909\t\r\n"
       ]
      }
     ],
     "prompt_number": 3
    },
    {
     "cell_type": "code",
     "collapsed": false,
     "input": [
      "!wc -l ./data/Cuffdiff2_heat-b-2014-12-20-22-27-15.4/sorted_data/genes.sorted_by_expression.sig.txt"
     ],
     "language": "python",
     "metadata": {},
     "outputs": [
      {
       "output_type": "stream",
       "stream": "stdout",
       "text": [
        "    1551 ./data/Cuffdiff2_heat-b-2014-12-20-22-27-15.4/sorted_data/genes.sorted_by_expression.sig.txt\r\n"
       ]
      }
     ],
     "prompt_number": 4
    },
    {
     "cell_type": "code",
     "collapsed": false,
     "input": [
      "!fgrep \"XLOC_027306\" /Users/sr320/git-repos/paper-Temp-stress/ipynb/data/Cuffdiff2_heat-b-2014-12-20-22-27-15.4/rebuilt.gtf | head"
     ],
     "language": "python",
     "metadata": {},
     "outputs": [
      {
       "output_type": "stream",
       "stream": "stdout",
       "text": [
        "scaffold444\tCufflinks\texon\t386338\t386565\t.\t-\t.\tgene_id XLOC_027306; tss_id \"TSS41263\"; oId \"CUFF.21767.1\"; exon_number \"1\"; class_code \"u\"; transcript_id \"TCONS_00056889\"\r\n",
        "scaffold444\tCufflinks\tCDS\t386338\t386565\t.\t-\t.\tgene_id XLOC_027306; tss_id \"TSS41263\"; oId \"CUFF.21767.1\"; exon_number \"1\"; class_code \"u\"; transcript_id \"TCONS_00056889\"\r\n",
        "scaffold444\tCufflinks\texon\t386816\t386856\t.\t-\t.\tgene_id XLOC_027306; tss_id \"TSS41263\"; oId \"CUFF.21767.1\"; exon_number \"2\"; class_code \"u\"; transcript_id \"TCONS_00056889\"\r\n",
        "scaffold444\tCufflinks\tCDS\t386816\t386856\t.\t-\t.\tgene_id XLOC_027306; tss_id \"TSS41263\"; oId \"CUFF.21767.1\"; exon_number \"2\"; class_code \"u\"; transcript_id \"TCONS_00056889\"\r\n"
       ]
      }
     ],
     "prompt_number": 11
    },
    {
     "cell_type": "code",
     "collapsed": false,
     "input": [
      "!fgrep \"XLOC_027306\" /Users/sr320/git-repos/paper-Temp-stress/ipynb/data/Cuffmerge2_heat-2014-12-20-19-14-34.8/cuffmerge_out/merged_with_ref_ids.gtf |  head"
     ],
     "language": "python",
     "metadata": {},
     "outputs": [
      {
       "output_type": "stream",
       "stream": "stdout",
       "text": [
        "scaffold444\tCufflinks\texon\t386338\t386565\t.\t-\t.\tgene_id XLOC_027306; tss_id \"TSS41263\"; oId \"CUFF.21767.1\"; exon_number \"1\"; class_code \"u\"; transcript_id \"TCONS_00056889\"\r\n",
        "scaffold444\tCufflinks\texon\t386816\t386856\t.\t-\t.\tgene_id XLOC_027306; tss_id \"TSS41263\"; oId \"CUFF.21767.1\"; exon_number \"2\"; class_code \"u\"; transcript_id \"TCONS_00056889\"\r\n"
       ]
      }
     ],
     "prompt_number": 13
    },
    {
     "cell_type": "code",
     "collapsed": false,
     "input": [
      "!cut -f9 /Users/sr320/git-repos/paper-Temp-stress/ipynb/data/Cuffdiff2_heat-b-2014-12-20-22-27-15.4/rebuilt.gtf \\\n",
      "> {wd}rebuilt.gtf.c9\n",
      "!head {wd}rebuilt.gtf.c9"
     ],
     "language": "python",
     "metadata": {},
     "outputs": [
      {
       "output_type": "stream",
       "stream": "stdout",
       "text": [
        "gene_id XLOC_000001; tss_id \"TSS1\"; oId \"CUFF.1.1\"; exon_number \"1\"; class_code \"u\"; transcript_id \"TCONS_00000001\"\r\n",
        "gene_id XLOC_000001; tss_id \"TSS1\"; oId \"CUFF.1.1\"; exon_number \"1\"; class_code \"u\"; transcript_id \"TCONS_00000001\"\r\n",
        "gene_id XLOC_000002; tss_id \"TSS2\"; oId \"CUFF.2.1\"; exon_number \"1\"; class_code \"u\"; transcript_id \"TCONS_00000002\"\r\n",
        "gene_id XLOC_000002; tss_id \"TSS2\"; oId \"CUFF.2.1\"; exon_number \"1\"; class_code \"u\"; transcript_id \"TCONS_00000002\"\r\n",
        "gene_id XLOC_000003; tss_id \"TSS3\"; oId \"CUFF.3.1\"; exon_number \"1\"; class_code \"u\"; transcript_id \"TCONS_00000003\"\r\n",
        "gene_id XLOC_000003; tss_id \"TSS3\"; oId \"CUFF.3.1\"; exon_number \"1\"; class_code \"u\"; transcript_id \"TCONS_00000003\"\r\n",
        "gene_id XLOC_000004; tss_id \"TSS4\"; oId \"CUFF.4.1\"; exon_number \"1\"; class_code \"u\"; transcript_id \"TCONS_00000004\"\r\n",
        "gene_id XLOC_000004; tss_id \"TSS4\"; oId \"CUFF.4.1\"; exon_number \"1\"; class_code \"u\"; transcript_id \"TCONS_00000004\"\r\n",
        "gene_id XLOC_000005; tss_id \"TSS5\"; oId \"CUFF.5.1\"; exon_number \"1\"; class_code \"u\"; transcript_id \"TCONS_00000005\"\r\n",
        "gene_id XLOC_000005; tss_id \"TSS5\"; oId \"CUFF.5.1\"; exon_number \"1\"; class_code \"u\"; transcript_id \"TCONS_00000005\"\r\n"
       ]
      }
     ],
     "prompt_number": 15
    },
    {
     "cell_type": "code",
     "collapsed": false,
     "input": [
      "!awk -F\"[; ]\" '{print $2}' {wd}rebuilt.gtf.c9 | head"
     ],
     "language": "python",
     "metadata": {},
     "outputs": [
      {
       "output_type": "stream",
       "stream": "stdout",
       "text": [
        "XLOC_000001\r\n",
        "XLOC_000001\r\n",
        "XLOC_000002\r\n",
        "XLOC_000002\r\n",
        "XLOC_000003\r\n",
        "XLOC_000003\r\n",
        "XLOC_000004\r\n",
        "XLOC_000004\r\n",
        "XLOC_000005\r\n",
        "XLOC_000005\r\n",
        "awk: write error on /dev/stdout\r\n",
        " input record number 2600, file {wd}rebuilt.gtf.c9\r\n",
        " source line number 1\r\n"
       ]
      }
     ],
     "prompt_number": 25
    },
    {
     "cell_type": "code",
     "collapsed": false,
     "input": [],
     "language": "python",
     "metadata": {},
     "outputs": []
    },
    {
     "cell_type": "code",
     "collapsed": false,
     "input": [
      "!awk '{print $1,$2}' "
     ],
     "language": "python",
     "metadata": {},
     "outputs": []
    }
   ],
   "metadata": {}
  }
 ]
}