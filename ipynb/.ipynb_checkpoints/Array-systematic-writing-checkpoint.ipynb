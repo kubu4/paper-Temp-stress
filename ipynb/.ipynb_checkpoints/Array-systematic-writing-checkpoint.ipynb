{
 "metadata": {
  "name": "",
  "signature": "sha256:170932c4f56fbebfdec9c5af663de2db4f48c1ae2692c73a7ca2d787f1a5a115"
 },
 "nbformat": 3,
 "nbformat_minor": 0,
 "worksheets": [
  {
   "cells": [
    {
     "cell_type": "code",
     "collapsed": false,
     "input": [
      "!head ./data/2014.07.02.colson/genomeBrowserTracks/logFC_HS-preHS/*"
     ],
     "language": "python",
     "metadata": {},
     "outputs": [
      {
       "output_type": "stream",
       "stream": "stdout",
       "text": [
        "==> ./data/2014.07.02.colson/genomeBrowserTracks/logFC_HS-preHS/2014.07.02.2M.bedGraph <==\r\n",
        "track type=bedGraph name=\"2M\" description=\"2M\" visibility=full color=100,100,0 altColor=0,100,200 priority=20\r\n",
        "scaffold1\t52347\t52397\t-0.835068225129123\r\n",
        "scaffold1\t52472\t52522\t-0.528877734264873\r\n",
        "scaffold1\t52597\t52650\t-0.570240181191101\r\n",
        "scaffold1\t52741\t52798\t-0.631246435590896\r\n",
        "scaffold1\t52851\t52916\t-0.647357503394735\r\n",
        "scaffold1\t52996\t53057\t-0.657527480568186\r\n",
        "scaffold1\t53101\t53153\t-1.04675017188359\r\n",
        "scaffold1\t53241\t53291\t-0.676510028159182\r\n",
        "scaffold1\t53351\t53406\t-0.474668524468244\r\n",
        "\r\n",
        "==> ./data/2014.07.02.colson/genomeBrowserTracks/logFC_HS-preHS/2014.07.02.2M_sig.bedGraph <==\r\n",
        "track type=bedGraph name=\"2M_sig\" description=\"2M_sig\" visibility=full color=100,100,0 altColor=0,100,200 priority=20\r\n",
        "scaffold1\t163391\t163444\t-1.19635354862016\r\n",
        "scaffold1\t167390\t167448\t-1.34858424227208\r\n",
        "scaffold1\t177036\t177092\t-1.32513261026528\r\n",
        "scaffold1\t180263\t180313\t-1.59644601437398\r\n",
        "scaffold1\t184151\t184202\t-1.36802539236446\r\n",
        "scaffold1\t207852\t207911\t-1.4489540693628\r\n",
        "scaffold1\t221645\t221697\t-1.19168816975966\r\n",
        "scaffold100\t20261\t20311\t-1.38705592724581\r\n",
        "scaffold100\t43707\t43766\t-1.94554287545546\r\n",
        "\r\n",
        "==> ./data/2014.07.02.colson/genomeBrowserTracks/logFC_HS-preHS/2014.07.02.4M.bedGraph <==\r\n",
        "track type=bedGraph name=\"4M\" description=\"4M\" visibility=full color=100,100,0 altColor=0,100,200 priority=20\r\n",
        "scaffold1\t52347\t52397\t-0.607382638604216\r\n",
        "scaffold1\t52472\t52522\t-0.517778984565597\r\n",
        "scaffold1\t52597\t52650\t-0.614441888334089\r\n",
        "scaffold1\t52741\t52798\t-1.0125546293844\r\n",
        "scaffold1\t52851\t52916\t0.170736223516649\r\n",
        "scaffold1\t52996\t53057\t-1.05130751246805\r\n",
        "scaffold1\t53101\t53153\t-0.793057755493946\r\n",
        "scaffold1\t53241\t53291\t-0.661392663616478\r\n",
        "scaffold1\t53351\t53406\t-0.643892831771129\r\n",
        "\r\n",
        "==> ./data/2014.07.02.colson/genomeBrowserTracks/logFC_HS-preHS/2014.07.02.4M_sig.bedGraph <==\r\n",
        "track type=bedGraph name=\"4M_sig\" description=\"4M_sig\" visibility=full color=100,100,0 altColor=0,100,200 priority=20\r\n",
        "scaffold1\t55723\t55780\t-1.14983078196614\r\n",
        "scaffold1\t162896\t162952\t1.31051906307266\r\n",
        "scaffold1\t165162\t165215\t-1.24601772855566\r\n",
        "scaffold1\t171392\t171453\t-1.22260744814979\r\n",
        "scaffold1\t174020\t174073\t1.13065801555915\r\n",
        "scaffold1\t174287\t174343\t-1.69319890151177\r\n",
        "scaffold1\t176273\t176334\t-1.72785163633438\r\n",
        "scaffold1\t178210\t178267\t1.2199265031441\r\n",
        "scaffold1\t183256\t183318\t-1.30551922539134\r\n",
        "\r\n",
        "==> ./data/2014.07.02.colson/genomeBrowserTracks/logFC_HS-preHS/2014.07.02.6M.bedGraph <==\r\n",
        "track type=bedGraph name=\"6M\" description=\"6M\" visibility=full color=100,100,0 altColor=0,100,200 priority=20\r\n",
        "scaffold1\t52347\t52397\t-0.445639866598264\r\n",
        "scaffold1\t52472\t52522\t-0.0688012470051458\r\n",
        "scaffold1\t52597\t52650\t-0.0587539333226483\r\n",
        "scaffold1\t52741\t52798\t-0.117394256248887\r\n",
        "scaffold1\t52851\t52916\t0.106790241643465\r\n",
        "scaffold1\t52996\t53057\t-0.947285682260127\r\n",
        "scaffold1\t53101\t53153\t-0.40187966219701\r\n",
        "scaffold1\t53241\t53291\t-0.218378761377913\r\n",
        "scaffold1\t53351\t53406\t-0.260193541648929\r\n",
        "\r\n",
        "==> ./data/2014.07.02.colson/genomeBrowserTracks/logFC_HS-preHS/2014.07.02.6M_sig.bedGraph <==\r\n",
        "track type=bedGraph name=\"6M_sig\" description=\"6M_sig\" visibility=full color=100,100,0 altColor=0,100,200 priority=20\r\n",
        "scaffold1\t54599\t54654\t-1.38187662416007\r\n",
        "scaffold1\t162129\t162191\t1.85685479189849\r\n",
        "scaffold1\t163536\t163586\t-1.15032035523765\r\n",
        "scaffold1\t172654\t172714\t1.33561271440876\r\n",
        "scaffold1\t174287\t174343\t-1.62903936976887\r\n",
        "scaffold1\t178075\t178128\t1.42323539316231\r\n",
        "scaffold1\t178685\t178740\t1.30886296151914\r\n",
        "scaffold1\t184271\t184330\t-1.20699853451878\r\n",
        "scaffold1\t184661\t184715\t-1.61107459826899\r\n"
       ]
      }
     ],
     "prompt_number": 1
    },
    {
     "cell_type": "code",
     "collapsed": false,
     "input": [
      "!wc -l ./data/2014.07.02.colson/genomeBrowserTracks/logFC_HS-preHS/*"
     ],
     "language": "python",
     "metadata": {},
     "outputs": [
      {
       "output_type": "stream",
       "stream": "stdout",
       "text": [
        "  697753 ./data/2014.07.02.colson/genomeBrowserTracks/logFC_HS-preHS/2014.07.02.2M.bedGraph\r\n",
        "   10028 ./data/2014.07.02.colson/genomeBrowserTracks/logFC_HS-preHS/2014.07.02.2M_sig.bedGraph\r\n"
       ]
      },
      {
       "output_type": "stream",
       "stream": "stdout",
       "text": [
        "  697753 ./data/2014.07.02.colson/genomeBrowserTracks/logFC_HS-preHS/2014.07.02.4M.bedGraph\r\n",
        "   10148 ./data/2014.07.02.colson/genomeBrowserTracks/logFC_HS-preHS/2014.07.02.4M_sig.bedGraph\r\n"
       ]
      },
      {
       "output_type": "stream",
       "stream": "stdout",
       "text": [
        "  697753 ./data/2014.07.02.colson/genomeBrowserTracks/logFC_HS-preHS/2014.07.02.6M.bedGraph\r\n",
        "   11690 ./data/2014.07.02.colson/genomeBrowserTracks/logFC_HS-preHS/2014.07.02.6M_sig.bedGraph\r\n",
        " 2125125 total\r\n"
       ]
      }
     ],
     "prompt_number": 2
    },
    {
     "cell_type": "code",
     "collapsed": false,
     "input": [
      "!fgrep \"-\" -c ./data/2014.07.02.colson/genomeBrowserTracks/logFC_HS-preHS/*"
     ],
     "language": "python",
     "metadata": {},
     "outputs": [
      {
       "output_type": "stream",
       "stream": "stdout",
       "text": [
        "./data/2014.07.02.colson/genomeBrowserTracks/logFC_HS-preHS/2014.07.02.2M.bedGraph:338556\r\n",
        "./data/2014.07.02.colson/genomeBrowserTracks/logFC_HS-preHS/2014.07.02.2M_sig.bedGraph:7224\r\n"
       ]
      },
      {
       "output_type": "stream",
       "stream": "stdout",
       "text": [
        "./data/2014.07.02.colson/genomeBrowserTracks/logFC_HS-preHS/2014.07.02.4M.bedGraph:344889\r\n",
        "./data/2014.07.02.colson/genomeBrowserTracks/logFC_HS-preHS/2014.07.02.4M_sig.bedGraph:6560\r\n"
       ]
      },
      {
       "output_type": "stream",
       "stream": "stdout",
       "text": [
        "./data/2014.07.02.colson/genomeBrowserTracks/logFC_HS-preHS/2014.07.02.6M.bedGraph:340387\r\n",
        "./data/2014.07.02.colson/genomeBrowserTracks/logFC_HS-preHS/2014.07.02.6M_sig.bedGraph:7645\r\n"
       ]
      }
     ],
     "prompt_number": 3
    },
    {
     "cell_type": "code",
     "collapsed": false,
     "input": [
      "\n",
      "!head ./data/2014.06.20*"
     ],
     "language": "python",
     "metadata": {},
     "outputs": [
      {
       "output_type": "stream",
       "stream": "stdout",
       "text": [
        "==> ./data/2014.06.20.gt1.8_gt3adjactentProbes.gff <==\r\n",
        "scaffold100\tOysterV9\tprobes\t636974\t637034\t1\t.\t.\tscaffold100:+:636974\r",
        "\r\n",
        "scaffold100\tOysterV9\tprobes\t637084\t637143\t1\t.\t.\tscaffold100:+:637084\r",
        "\r\n",
        "scaffold100\tOysterV9\tprobes\t637209\t637276\t1\t.\t.\tscaffold100:+:637209\r",
        "\r\n",
        "scaffold102\tOysterV9\tprobes\t303196\t303251\t1\t.\t.\tscaffold102:+:303196\r",
        "\r\n",
        "scaffold102\tOysterV9\tprobes\t303336\t303394\t1\t.\t.\tscaffold102:+:303336\r",
        "\r\n",
        "scaffold102\tOysterV9\tprobes\t303521\t303576\t1\t.\t.\tscaffold102:+:303521\r",
        "\r\n",
        "scaffold1032\tOysterV9\tprobes\t634021\t634085\t1\t.\t.\tscaffold1032:+:634021\r",
        "\r\n",
        "scaffold1032\tOysterV9\tprobes\t634156\t634218\t1\t.\t.\tscaffold1032:+:634156\r",
        "\r\n",
        "scaffold1032\tOysterV9\tprobes\t634281\t634333\t1\t.\t.\tscaffold1032:+:634281\r",
        "\r\n",
        "scaffold1032\tOysterV9\tprobes\t700173\t700230\t1\t.\t.\tscaffold1032:+:700173\r",
        "\r\n",
        "\r\n",
        "==> ./data/2014.06.20.lt1.8_gt3adjactentProbes.gff <==\r\n",
        "scaffold100\tOysterV9\tprobes\t804272\t804322\t1\t.\t.\tscaffold100:+:804272\r",
        "\r\n",
        "scaffold100\tOysterV9\tprobes\t804407\t804457\t1\t.\t.\tscaffold100:+:804407\r",
        "\r\n",
        "scaffold100\tOysterV9\tprobes\t804532\t804582\t1\t.\t.\tscaffold100:+:804532\r",
        "\r\n",
        "scaffold100\tOysterV9\tprobes\t804652\t804703\t1\t.\t.\tscaffold100:+:804652\r",
        "\r\n",
        "scaffold100\tOysterV9\tprobes\t804787\t804844\t1\t.\t.\tscaffold100:+:804787\r",
        "\r\n",
        "scaffold100\tOysterV9\tprobes\t804897\t804960\t1\t.\t.\tscaffold100:+:804897\r",
        "\r\n",
        "scaffold100\tOysterV9\tprobes\t805157\t805213\t1\t.\t.\tscaffold100:+:805157\r",
        "\r\n",
        "scaffold100\tOysterV9\tprobes\t805287\t805337\t1\t.\t.\tscaffold100:+:805287\r",
        "\r\n",
        "scaffold100\tOysterV9\tprobes\t805402\t805452\t1\t.\t.\tscaffold100:+:805402\r",
        "\r\n",
        "scaffold1016\tOysterV9\tprobes\t202657\t202722\t1\t.\t.\tscaffold1016:+:202657\r",
        "\r\n"
       ]
      }
     ],
     "prompt_number": 2
    },
    {
     "cell_type": "code",
     "collapsed": false,
     "input": [
      "!wc -l ./data/2014.06.20*"
     ],
     "language": "python",
     "metadata": {},
     "outputs": [
      {
       "output_type": "stream",
       "stream": "stdout",
       "text": [
        "     164 ./data/2014.06.20.gt1.8_gt3adjactentProbes.gff\r\n",
        "     362 ./data/2014.06.20.lt1.8_gt3adjactentProbes.gff\r\n",
        "     526 total\r\n"
       ]
      }
     ],
     "prompt_number": 4
    },
    {
     "cell_type": "code",
     "collapsed": false,
     "input": [
      "!head ./data/2014.06.20.lt1.8_gt3adjactentProbes.gff\n"
     ],
     "language": "python",
     "metadata": {},
     "outputs": [
      {
       "output_type": "stream",
       "stream": "stdout",
       "text": [
        "scaffold100\tOysterV9\tprobes\t804272\t804322\t1\t.\t.\tscaffold100:+:804272\r",
        "\r\n",
        "scaffold100\tOysterV9\tprobes\t804407\t804457\t1\t.\t.\tscaffold100:+:804407\r",
        "\r\n",
        "scaffold100\tOysterV9\tprobes\t804532\t804582\t1\t.\t.\tscaffold100:+:804532\r",
        "\r\n",
        "scaffold100\tOysterV9\tprobes\t804652\t804703\t1\t.\t.\tscaffold100:+:804652\r",
        "\r\n",
        "scaffold100\tOysterV9\tprobes\t804787\t804844\t1\t.\t.\tscaffold100:+:804787\r",
        "\r\n",
        "scaffold100\tOysterV9\tprobes\t804897\t804960\t1\t.\t.\tscaffold100:+:804897\r",
        "\r\n",
        "scaffold100\tOysterV9\tprobes\t805157\t805213\t1\t.\t.\tscaffold100:+:805157\r",
        "\r\n",
        "scaffold100\tOysterV9\tprobes\t805287\t805337\t1\t.\t.\tscaffold100:+:805287\r",
        "\r\n",
        "scaffold100\tOysterV9\tprobes\t805402\t805452\t1\t.\t.\tscaffold100:+:805402\r",
        "\r\n",
        "scaffold1016\tOysterV9\tprobes\t202657\t202722\t1\t.\t.\tscaffold1016:+:202657\r",
        "\r\n"
       ]
      }
     ],
     "prompt_number": 5
    },
    {
     "cell_type": "heading",
     "level": 1,
     "metadata": {},
     "source": [
      "Merging Adjacent "
     ]
    },
    {
     "cell_type": "code",
     "collapsed": false,
     "input": [
      "!bedtools merge -d "
     ],
     "language": "python",
     "metadata": {},
     "outputs": [
      {
       "output_type": "stream",
       "stream": "stdout",
       "text": [
        "bedtools: flexible tools for genome arithmetic and DNA sequence analysis.\r\n",
        "usage:    bedtools <subcommand> [options]\r\n",
        "\r\n",
        "The bedtools sub-commands include:\r\n",
        "\r\n",
        "[ Genome arithmetic ]\r\n",
        "    intersect     Find overlapping intervals in various ways.\r\n",
        "    window        Find overlapping intervals within a window around an interval.\r\n",
        "    closest       Find the closest, potentially non-overlapping interval.\r\n",
        "    coverage      Compute the coverage over defined intervals.\r\n",
        "    map           Apply a function to a column for each overlapping interval.\r\n",
        "    genomecov     Compute the coverage over an entire genome.\r\n",
        "    merge         Combine overlapping/nearby intervals into a single interval.\r\n",
        "    cluster       Cluster (but don't merge) overlapping/nearby intervals.\r\n",
        "    complement    Extract intervals _not_ represented by an interval file.\r\n",
        "    subtract      Remove intervals based on overlaps b/w two files.\r\n",
        "    slop          Adjust the size of intervals.\r\n",
        "    flank         Create new intervals from the flanks of existing intervals.\r\n",
        "    sort          Order the intervals in a file.\r\n",
        "    random        Generate random intervals in a genome.\r\n",
        "    shuffle       Randomly redistrubute intervals in a genome.\r\n",
        "    sample        Sample random records from file using reservoir sampling.\r\n",
        "    annotate      Annotate coverage of features from multiple files.\r\n",
        "\r\n",
        "[ Multi-way file comparisons ]\r\n",
        "    multiinter    Identifies common intervals among multiple interval files.\r\n",
        "    unionbedg     Combines coverage intervals from multiple BEDGRAPH files.\r\n",
        "\r\n",
        "[ Paired-end manipulation ]\r\n",
        "    pairtobed     Find pairs that overlap intervals in various ways.\r\n",
        "    pairtopair    Find pairs that overlap other pairs in various ways.\r\n",
        "\r\n",
        "[ Format conversion ]\r\n",
        "    bamtobed      Convert BAM alignments to BED (& other) formats.\r\n",
        "    bedtobam      Convert intervals to BAM records.\r\n",
        "    bamtofastq    Convert BAM records to FASTQ records.\r\n",
        "    bedpetobam    Convert BEDPE intervals to BAM records.\r\n",
        "    bed12tobed6   Breaks BED12 intervals into discrete BED6 intervals.\r\n",
        "\r\n",
        "[ Fasta manipulation ]\r\n",
        "    getfasta      Use intervals to extract sequences from a FASTA file.\r\n",
        "    maskfasta     Use intervals to mask sequences from a FASTA file.\r\n",
        "    nuc           Profile the nucleotide content of intervals in a FASTA file.\r\n",
        "\r\n",
        "[ BAM focused tools ]\r\n",
        "    multicov      Counts coverage from multiple BAMs at specific intervals.\r\n",
        "    tag           Tag BAM alignments based on overlaps with interval files.\r\n",
        "\r\n",
        "[ Statistical relationships ]\r\n",
        "    jaccard       Calculate the Jaccard statistic b/w two sets of intervals.\r\n",
        "    reldist       Calculate the distribution of relative distances b/w two files.\r\n",
        "    fisher        Calculate Fisher statistic b/w two feature files.\r\n",
        "\r\n",
        "[ Miscellaneous tools ]\r\n",
        "    overlap       Computes the amount of overlap from two intervals.\r\n",
        "    igv           Create an IGV snapshot batch script.\r\n",
        "    links         Create a HTML page of links to UCSC locations.\r\n",
        "    makewindows   Make interval \"windows\" across a genome.\r\n",
        "    groupby       Group by common cols. & summarize oth. cols. (~ SQL \"groupBy\")\r\n",
        "    expand        Replicate lines based on lists of values in columns.\r\n",
        "\r\n",
        "[ General help ]\r\n",
        "    --help        Print this help menu.\r\n",
        "    --version     What version of bedtools are you using?.\r\n",
        "    --contact     Feature requests, bugs, mailing lists, etc.\r\n",
        "\r\n"
       ]
      }
     ],
     "prompt_number": 6
    },
    {
     "cell_type": "code",
     "collapsed": false,
     "input": [],
     "language": "python",
     "metadata": {},
     "outputs": []
    }
   ],
   "metadata": {}
  }
 ]
}