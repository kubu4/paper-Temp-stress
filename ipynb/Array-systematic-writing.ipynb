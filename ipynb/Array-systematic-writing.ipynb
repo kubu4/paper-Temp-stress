{
 "metadata": {
  "name": "",
  "signature": "sha256:659150d8e947a26b9e0c73c180e2e957dad8ed33b66e9f0c18a2361e4e8f5666"
 },
 "nbformat": 3,
 "nbformat_minor": 0,
 "worksheets": [
  {
   "cells": [
    {
     "cell_type": "code",
     "collapsed": false,
     "input": [
      "!head ./data/2014.07.02.colson/genomeBrowserTracks/logFC_HS-preHS/*"
     ],
     "language": "python",
     "metadata": {},
     "outputs": [
      {
       "output_type": "stream",
       "stream": "stdout",
       "text": [
        "==> ./data/2014.07.02.colson/genomeBrowserTracks/logFC_HS-preHS/2014.07.02.2M.bedGraph <==\r\n",
        "track type=bedGraph name=\"2M\" description=\"2M\" visibility=full color=100,100,0 altColor=0,100,200 priority=20\r\n",
        "scaffold1\t52347\t52397\t-0.835068225129123\r\n",
        "scaffold1\t52472\t52522\t-0.528877734264873\r\n",
        "scaffold1\t52597\t52650\t-0.570240181191101\r\n",
        "scaffold1\t52741\t52798\t-0.631246435590896\r\n",
        "scaffold1\t52851\t52916\t-0.647357503394735\r\n",
        "scaffold1\t52996\t53057\t-0.657527480568186\r\n",
        "scaffold1\t53101\t53153\t-1.04675017188359\r\n",
        "scaffold1\t53241\t53291\t-0.676510028159182\r\n",
        "scaffold1\t53351\t53406\t-0.474668524468244\r\n",
        "\r\n",
        "==> ./data/2014.07.02.colson/genomeBrowserTracks/logFC_HS-preHS/2014.07.02.2M_sig.bedGraph <==\r\n",
        "track type=bedGraph name=\"2M_sig\" description=\"2M_sig\" visibility=full color=100,100,0 altColor=0,100,200 priority=20\r\n",
        "scaffold1\t163391\t163444\t-1.19635354862016\r\n",
        "scaffold1\t167390\t167448\t-1.34858424227208\r\n",
        "scaffold1\t177036\t177092\t-1.32513261026528\r\n",
        "scaffold1\t180263\t180313\t-1.59644601437398\r\n",
        "scaffold1\t184151\t184202\t-1.36802539236446\r\n",
        "scaffold1\t207852\t207911\t-1.4489540693628\r\n",
        "scaffold1\t221645\t221697\t-1.19168816975966\r\n",
        "scaffold100\t20261\t20311\t-1.38705592724581\r\n",
        "scaffold100\t43707\t43766\t-1.94554287545546\r\n",
        "\r\n",
        "==> ./data/2014.07.02.colson/genomeBrowserTracks/logFC_HS-preHS/2014.07.02.4M.bedGraph <==\r\n",
        "track type=bedGraph name=\"4M\" description=\"4M\" visibility=full color=100,100,0 altColor=0,100,200 priority=20\r\n",
        "scaffold1\t52347\t52397\t-0.607382638604216\r\n",
        "scaffold1\t52472\t52522\t-0.517778984565597\r\n",
        "scaffold1\t52597\t52650\t-0.614441888334089\r\n",
        "scaffold1\t52741\t52798\t-1.0125546293844\r\n",
        "scaffold1\t52851\t52916\t0.170736223516649\r\n",
        "scaffold1\t52996\t53057\t-1.05130751246805\r\n",
        "scaffold1\t53101\t53153\t-0.793057755493946\r\n",
        "scaffold1\t53241\t53291\t-0.661392663616478\r\n",
        "scaffold1\t53351\t53406\t-0.643892831771129\r\n",
        "\r\n",
        "==> ./data/2014.07.02.colson/genomeBrowserTracks/logFC_HS-preHS/2014.07.02.4M_sig.bedGraph <==\r\n",
        "track type=bedGraph name=\"4M_sig\" description=\"4M_sig\" visibility=full color=100,100,0 altColor=0,100,200 priority=20\r\n",
        "scaffold1\t55723\t55780\t-1.14983078196614\r\n",
        "scaffold1\t162896\t162952\t1.31051906307266\r\n",
        "scaffold1\t165162\t165215\t-1.24601772855566\r\n",
        "scaffold1\t171392\t171453\t-1.22260744814979\r\n",
        "scaffold1\t174020\t174073\t1.13065801555915\r\n",
        "scaffold1\t174287\t174343\t-1.69319890151177\r\n",
        "scaffold1\t176273\t176334\t-1.72785163633438\r\n",
        "scaffold1\t178210\t178267\t1.2199265031441\r\n",
        "scaffold1\t183256\t183318\t-1.30551922539134\r\n",
        "\r\n",
        "==> ./data/2014.07.02.colson/genomeBrowserTracks/logFC_HS-preHS/2014.07.02.6M.bedGraph <==\r\n",
        "track type=bedGraph name=\"6M\" description=\"6M\" visibility=full color=100,100,0 altColor=0,100,200 priority=20\r\n",
        "scaffold1\t52347\t52397\t-0.445639866598264\r\n",
        "scaffold1\t52472\t52522\t-0.0688012470051458\r\n",
        "scaffold1\t52597\t52650\t-0.0587539333226483\r\n",
        "scaffold1\t52741\t52798\t-0.117394256248887\r\n",
        "scaffold1\t52851\t52916\t0.106790241643465\r\n",
        "scaffold1\t52996\t53057\t-0.947285682260127\r\n",
        "scaffold1\t53101\t53153\t-0.40187966219701\r\n",
        "scaffold1\t53241\t53291\t-0.218378761377913\r\n",
        "scaffold1\t53351\t53406\t-0.260193541648929\r\n",
        "\r\n",
        "==> ./data/2014.07.02.colson/genomeBrowserTracks/logFC_HS-preHS/2014.07.02.6M_sig.bedGraph <==\r\n",
        "track type=bedGraph name=\"6M_sig\" description=\"6M_sig\" visibility=full color=100,100,0 altColor=0,100,200 priority=20\r\n",
        "scaffold1\t54599\t54654\t-1.38187662416007\r\n",
        "scaffold1\t162129\t162191\t1.85685479189849\r\n",
        "scaffold1\t163536\t163586\t-1.15032035523765\r\n",
        "scaffold1\t172654\t172714\t1.33561271440876\r\n",
        "scaffold1\t174287\t174343\t-1.62903936976887\r\n",
        "scaffold1\t178075\t178128\t1.42323539316231\r\n",
        "scaffold1\t178685\t178740\t1.30886296151914\r\n",
        "scaffold1\t184271\t184330\t-1.20699853451878\r\n",
        "scaffold1\t184661\t184715\t-1.61107459826899\r\n"
       ]
      }
     ],
     "prompt_number": 1
    },
    {
     "cell_type": "code",
     "collapsed": false,
     "input": [
      "!wc -l ./data/2014.07.02.colson/genomeBrowserTracks/logFC_HS-preHS/*"
     ],
     "language": "python",
     "metadata": {},
     "outputs": [
      {
       "output_type": "stream",
       "stream": "stdout",
       "text": [
        "  697753 ./data/2014.07.02.colson/genomeBrowserTracks/logFC_HS-preHS/2014.07.02.2M.bedGraph\r\n",
        "   10028 ./data/2014.07.02.colson/genomeBrowserTracks/logFC_HS-preHS/2014.07.02.2M_sig.bedGraph\r\n"
       ]
      },
      {
       "output_type": "stream",
       "stream": "stdout",
       "text": [
        "  697753 ./data/2014.07.02.colson/genomeBrowserTracks/logFC_HS-preHS/2014.07.02.4M.bedGraph\r\n",
        "   10148 ./data/2014.07.02.colson/genomeBrowserTracks/logFC_HS-preHS/2014.07.02.4M_sig.bedGraph\r\n"
       ]
      },
      {
       "output_type": "stream",
       "stream": "stdout",
       "text": [
        "  697753 ./data/2014.07.02.colson/genomeBrowserTracks/logFC_HS-preHS/2014.07.02.6M.bedGraph\r\n",
        "   11690 ./data/2014.07.02.colson/genomeBrowserTracks/logFC_HS-preHS/2014.07.02.6M_sig.bedGraph\r\n",
        " 2125125 total\r\n"
       ]
      }
     ],
     "prompt_number": 2
    },
    {
     "cell_type": "code",
     "collapsed": false,
     "input": [
      "!fgrep \"-\" -c ./data/2014.07.02.colson/genomeBrowserTracks/logFC_HS-preHS/*"
     ],
     "language": "python",
     "metadata": {},
     "outputs": [
      {
       "output_type": "stream",
       "stream": "stdout",
       "text": [
        "./data/2014.07.02.colson/genomeBrowserTracks/logFC_HS-preHS/2014.07.02.2M.bedGraph:338556\r\n",
        "./data/2014.07.02.colson/genomeBrowserTracks/logFC_HS-preHS/2014.07.02.2M_sig.bedGraph:7224\r\n"
       ]
      },
      {
       "output_type": "stream",
       "stream": "stdout",
       "text": [
        "./data/2014.07.02.colson/genomeBrowserTracks/logFC_HS-preHS/2014.07.02.4M.bedGraph:344889\r\n",
        "./data/2014.07.02.colson/genomeBrowserTracks/logFC_HS-preHS/2014.07.02.4M_sig.bedGraph:6560\r\n"
       ]
      },
      {
       "output_type": "stream",
       "stream": "stdout",
       "text": [
        "./data/2014.07.02.colson/genomeBrowserTracks/logFC_HS-preHS/2014.07.02.6M.bedGraph:340387\r\n",
        "./data/2014.07.02.colson/genomeBrowserTracks/logFC_HS-preHS/2014.07.02.6M_sig.bedGraph:7645\r\n"
       ]
      }
     ],
     "prompt_number": 3
    },
    {
     "cell_type": "code",
     "collapsed": false,
     "input": [
      "%%bash \n",
      "head ./data/2014.06.20*"
     ],
     "language": "python",
     "metadata": {},
     "outputs": [
      {
       "output_type": "stream",
       "stream": "stderr",
       "text": [
        "shell-init: error retrieving current directory: getcwd: cannot access parent directories: No such file or directory\n",
        "head: ./data/2014.06.20*: No such file or directory\n"
       ]
      }
     ],
     "prompt_number": 13
    },
    {
     "cell_type": "code",
     "collapsed": false,
     "input": [
      "pwd"
     ],
     "language": "python",
     "metadata": {},
     "outputs": [
      {
       "output_type": "stream",
       "stream": "stdout",
       "text": [
        "Traceback (most recent call last):\n",
        "  File \"/Users/sr320/anaconda/lib/python2.7/site-packages/IPython/core/ultratb.py\", line 776, in structured_traceback\n",
        "    records = _fixed_getinnerframes(etb, context, tb_offset)\n",
        "  File \"/Users/sr320/anaconda/lib/python2.7/site-packages/IPython/core/ultratb.py\", line 230, in wrapped\n",
        "    return f(*args, **kwargs)\n",
        "  File \"/Users/sr320/anaconda/lib/python2.7/site-packages/IPython/core/ultratb.py\", line 259, in _fixed_getinnerframes\n",
        "    records  = fix_frame_records_filenames(inspect.getinnerframes(etb, context))\n",
        "  File \"/Users/sr320/anaconda/lib/python2.7/inspect.py\", line 1044, in getinnerframes\n",
        "    framelist.append((tb.tb_frame,) + getframeinfo(tb, context))\n",
        "  File \"/Users/sr320/anaconda/lib/python2.7/inspect.py\", line 1004, in getframeinfo\n",
        "    filename = getsourcefile(frame) or getfile(frame)\n",
        "  File \"/Users/sr320/anaconda/lib/python2.7/inspect.py\", line 454, in getsourcefile\n",
        "    if hasattr(getmodule(object, filename), '__loader__'):\n",
        "  File \"/Users/sr320/anaconda/lib/python2.7/inspect.py\", line 483, in getmodule\n",
        "    file = getabsfile(object, _filename)\n",
        "  File \"/Users/sr320/anaconda/lib/python2.7/inspect.py\", line 467, in getabsfile\n",
        "    return os.path.normcase(os.path.abspath(_filename))\n",
        "  File \"/Users/sr320/anaconda/lib/python2.7/posixpath.py\", line 371, in abspath\n",
        "    cwd = os.getcwd()\n",
        "OSError: [Errno 2] No such file or directory\n"
       ]
      },
      {
       "output_type": "stream",
       "stream": "stderr",
       "text": [
        "ERROR: Internal Python error in the inspect module.\n",
        "Below is the traceback from this internal error.\n",
        "\n",
        "\n",
        "Unfortunately, your original traceback can not be constructed.\n",
        "\n"
       ]
      },
      {
       "ename": "OSError",
       "evalue": "[Errno 2] No such file or directory",
       "output_type": "pyerr",
       "traceback": ""
      }
     ],
     "prompt_number": 14
    },
    {
     "cell_type": "code",
     "collapsed": false,
     "input": [],
     "language": "python",
     "metadata": {},
     "outputs": []
    }
   ],
   "metadata": {}
  }
 ]
}